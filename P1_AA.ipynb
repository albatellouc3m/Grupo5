{
  "nbformat": 4,
  "nbformat_minor": 0,
  "metadata": {
    "colab": {
      "provenance": [],
      "include_colab_link": true
    },
    "kernelspec": {
      "name": "python3",
      "display_name": "Python 3"
    },
    "language_info": {
      "name": "python"
    }
  },
  "cells": [
    {
      "cell_type": "markdown",
      "metadata": {
        "id": "view-in-github",
        "colab_type": "text"
      },
      "source": [
        "<a href=\"https://colab.research.google.com/github/albatellouc3m/P1_AA/blob/main/P1_AA.ipynb\" target=\"_parent\"><img src=\"https://colab.research.google.com/assets/colab-badge.svg\" alt=\"Open In Colab\"/></a>"
      ]
    },
    {
      "cell_type": "markdown",
      "source": [
        "# **1. Importar datos**"
      ],
      "metadata": {
        "id": "p_o9WpKW9qFw"
      }
    },
    {
      "cell_type": "markdown",
      "source": [
        "Primeramente tenemos que leer los datos en local (archivos de google colab) En nuestro caso, hemos elegido el NIA 100495755, donde los dos últimos dígitos son 5 y 5. Por lo que nuestro dataset seria el número 10 (5 + 5 = 10)."
      ],
      "metadata": {
        "id": "qXL_HVU5ELeM"
      }
    },
    {
      "cell_type": "code",
      "source": [
        "import pandas as pd\n",
        "import numpy as np\n",
        "import matplotlib.pyplot as plt\n",
        "import seaborn as sns\n",
        "\n",
        "datos_generales = pd.read_csv('./attrition_availabledata_10.csv.gz')\n",
        "datos_test = pd.read_csv('./attrition_competition_10.csv.gz') # Datos para realizar el test\n",
        "\n",
        "datos_generales.head()"
      ],
      "metadata": {
        "colab": {
          "base_uri": "https://localhost:8080/",
          "height": 342
        },
        "id": "m0RJPxLpyVNO",
        "outputId": "43acb983-26e8-46d2-d5bf-66f4ba59ab19"
      },
      "execution_count": 6,
      "outputs": [
        {
          "output_type": "execute_result",
          "data": {
            "text/plain": [
              "        hrs  absences  JobInvolvement  PerformanceRating  \\\n",
              "0  7.462297        13               3                  3   \n",
              "1  7.488597         6               1                  3   \n",
              "2  7.116541        16               2                  4   \n",
              "3  9.709125         6               3                  4   \n",
              "4  6.297729         6               4                  3   \n",
              "\n",
              "   EnvironmentSatisfaction  JobSatisfaction  WorkLifeBalance  Age  \\\n",
              "0                      3.0              3.0              3.0   48   \n",
              "1                      3.0              4.0              4.0   31   \n",
              "2                      1.0              1.0              3.0   36   \n",
              "3                      3.0              3.0              3.0   49   \n",
              "4                      3.0              2.0              3.0   40   \n",
              "\n",
              "      BusinessTravel              Department  ...  Over18  PercentSalaryHike  \\\n",
              "0      Travel_Rarely  Research & Development  ...       Y                 13   \n",
              "1  Travel_Frequently  Research & Development  ...       Y                 17   \n",
              "2      Travel_Rarely  Research & Development  ...       Y                 24   \n",
              "3      Travel_Rarely  Research & Development  ...       Y                 22   \n",
              "4  Travel_Frequently  Research & Development  ...       Y                 13   \n",
              "\n",
              "  StandardHours  StockOptionLevel  TotalWorkingYears TrainingTimesLastYear  \\\n",
              "0             8                 1               18.0                     2   \n",
              "1             8                 1                3.0                     2   \n",
              "2             8                 0                6.0                     6   \n",
              "3             8                 0               25.0                     2   \n",
              "4             8                 1                8.0                     3   \n",
              "\n",
              "   YearsAtCompany YearsSinceLastPromotion YearsWithCurrManager  Attrition  \n",
              "0               8                       7                    7         No  \n",
              "1               1                       0                    0        Yes  \n",
              "2               5                       0                    3         No  \n",
              "3               7                       0                    7         No  \n",
              "4               8                       3                    7         No  \n",
              "\n",
              "[5 rows x 31 columns]"
            ],
            "text/html": [
              "\n",
              "  <div id=\"df-e20d4a9e-b862-49ea-9559-cbda69d77429\" class=\"colab-df-container\">\n",
              "    <div>\n",
              "<style scoped>\n",
              "    .dataframe tbody tr th:only-of-type {\n",
              "        vertical-align: middle;\n",
              "    }\n",
              "\n",
              "    .dataframe tbody tr th {\n",
              "        vertical-align: top;\n",
              "    }\n",
              "\n",
              "    .dataframe thead th {\n",
              "        text-align: right;\n",
              "    }\n",
              "</style>\n",
              "<table border=\"1\" class=\"dataframe\">\n",
              "  <thead>\n",
              "    <tr style=\"text-align: right;\">\n",
              "      <th></th>\n",
              "      <th>hrs</th>\n",
              "      <th>absences</th>\n",
              "      <th>JobInvolvement</th>\n",
              "      <th>PerformanceRating</th>\n",
              "      <th>EnvironmentSatisfaction</th>\n",
              "      <th>JobSatisfaction</th>\n",
              "      <th>WorkLifeBalance</th>\n",
              "      <th>Age</th>\n",
              "      <th>BusinessTravel</th>\n",
              "      <th>Department</th>\n",
              "      <th>...</th>\n",
              "      <th>Over18</th>\n",
              "      <th>PercentSalaryHike</th>\n",
              "      <th>StandardHours</th>\n",
              "      <th>StockOptionLevel</th>\n",
              "      <th>TotalWorkingYears</th>\n",
              "      <th>TrainingTimesLastYear</th>\n",
              "      <th>YearsAtCompany</th>\n",
              "      <th>YearsSinceLastPromotion</th>\n",
              "      <th>YearsWithCurrManager</th>\n",
              "      <th>Attrition</th>\n",
              "    </tr>\n",
              "  </thead>\n",
              "  <tbody>\n",
              "    <tr>\n",
              "      <th>0</th>\n",
              "      <td>7.462297</td>\n",
              "      <td>13</td>\n",
              "      <td>3</td>\n",
              "      <td>3</td>\n",
              "      <td>3.0</td>\n",
              "      <td>3.0</td>\n",
              "      <td>3.0</td>\n",
              "      <td>48</td>\n",
              "      <td>Travel_Rarely</td>\n",
              "      <td>Research &amp; Development</td>\n",
              "      <td>...</td>\n",
              "      <td>Y</td>\n",
              "      <td>13</td>\n",
              "      <td>8</td>\n",
              "      <td>1</td>\n",
              "      <td>18.0</td>\n",
              "      <td>2</td>\n",
              "      <td>8</td>\n",
              "      <td>7</td>\n",
              "      <td>7</td>\n",
              "      <td>No</td>\n",
              "    </tr>\n",
              "    <tr>\n",
              "      <th>1</th>\n",
              "      <td>7.488597</td>\n",
              "      <td>6</td>\n",
              "      <td>1</td>\n",
              "      <td>3</td>\n",
              "      <td>3.0</td>\n",
              "      <td>4.0</td>\n",
              "      <td>4.0</td>\n",
              "      <td>31</td>\n",
              "      <td>Travel_Frequently</td>\n",
              "      <td>Research &amp; Development</td>\n",
              "      <td>...</td>\n",
              "      <td>Y</td>\n",
              "      <td>17</td>\n",
              "      <td>8</td>\n",
              "      <td>1</td>\n",
              "      <td>3.0</td>\n",
              "      <td>2</td>\n",
              "      <td>1</td>\n",
              "      <td>0</td>\n",
              "      <td>0</td>\n",
              "      <td>Yes</td>\n",
              "    </tr>\n",
              "    <tr>\n",
              "      <th>2</th>\n",
              "      <td>7.116541</td>\n",
              "      <td>16</td>\n",
              "      <td>2</td>\n",
              "      <td>4</td>\n",
              "      <td>1.0</td>\n",
              "      <td>1.0</td>\n",
              "      <td>3.0</td>\n",
              "      <td>36</td>\n",
              "      <td>Travel_Rarely</td>\n",
              "      <td>Research &amp; Development</td>\n",
              "      <td>...</td>\n",
              "      <td>Y</td>\n",
              "      <td>24</td>\n",
              "      <td>8</td>\n",
              "      <td>0</td>\n",
              "      <td>6.0</td>\n",
              "      <td>6</td>\n",
              "      <td>5</td>\n",
              "      <td>0</td>\n",
              "      <td>3</td>\n",
              "      <td>No</td>\n",
              "    </tr>\n",
              "    <tr>\n",
              "      <th>3</th>\n",
              "      <td>9.709125</td>\n",
              "      <td>6</td>\n",
              "      <td>3</td>\n",
              "      <td>4</td>\n",
              "      <td>3.0</td>\n",
              "      <td>3.0</td>\n",
              "      <td>3.0</td>\n",
              "      <td>49</td>\n",
              "      <td>Travel_Rarely</td>\n",
              "      <td>Research &amp; Development</td>\n",
              "      <td>...</td>\n",
              "      <td>Y</td>\n",
              "      <td>22</td>\n",
              "      <td>8</td>\n",
              "      <td>0</td>\n",
              "      <td>25.0</td>\n",
              "      <td>2</td>\n",
              "      <td>7</td>\n",
              "      <td>0</td>\n",
              "      <td>7</td>\n",
              "      <td>No</td>\n",
              "    </tr>\n",
              "    <tr>\n",
              "      <th>4</th>\n",
              "      <td>6.297729</td>\n",
              "      <td>6</td>\n",
              "      <td>4</td>\n",
              "      <td>3</td>\n",
              "      <td>3.0</td>\n",
              "      <td>2.0</td>\n",
              "      <td>3.0</td>\n",
              "      <td>40</td>\n",
              "      <td>Travel_Frequently</td>\n",
              "      <td>Research &amp; Development</td>\n",
              "      <td>...</td>\n",
              "      <td>Y</td>\n",
              "      <td>13</td>\n",
              "      <td>8</td>\n",
              "      <td>1</td>\n",
              "      <td>8.0</td>\n",
              "      <td>3</td>\n",
              "      <td>8</td>\n",
              "      <td>3</td>\n",
              "      <td>7</td>\n",
              "      <td>No</td>\n",
              "    </tr>\n",
              "  </tbody>\n",
              "</table>\n",
              "<p>5 rows × 31 columns</p>\n",
              "</div>\n",
              "    <div class=\"colab-df-buttons\">\n",
              "\n",
              "  <div class=\"colab-df-container\">\n",
              "    <button class=\"colab-df-convert\" onclick=\"convertToInteractive('df-e20d4a9e-b862-49ea-9559-cbda69d77429')\"\n",
              "            title=\"Convert this dataframe to an interactive table.\"\n",
              "            style=\"display:none;\">\n",
              "\n",
              "  <svg xmlns=\"http://www.w3.org/2000/svg\" height=\"24px\" viewBox=\"0 -960 960 960\">\n",
              "    <path d=\"M120-120v-720h720v720H120Zm60-500h600v-160H180v160Zm220 220h160v-160H400v160Zm0 220h160v-160H400v160ZM180-400h160v-160H180v160Zm440 0h160v-160H620v160ZM180-180h160v-160H180v160Zm440 0h160v-160H620v160Z\"/>\n",
              "  </svg>\n",
              "    </button>\n",
              "\n",
              "  <style>\n",
              "    .colab-df-container {\n",
              "      display:flex;\n",
              "      gap: 12px;\n",
              "    }\n",
              "\n",
              "    .colab-df-convert {\n",
              "      background-color: #E8F0FE;\n",
              "      border: none;\n",
              "      border-radius: 50%;\n",
              "      cursor: pointer;\n",
              "      display: none;\n",
              "      fill: #1967D2;\n",
              "      height: 32px;\n",
              "      padding: 0 0 0 0;\n",
              "      width: 32px;\n",
              "    }\n",
              "\n",
              "    .colab-df-convert:hover {\n",
              "      background-color: #E2EBFA;\n",
              "      box-shadow: 0px 1px 2px rgba(60, 64, 67, 0.3), 0px 1px 3px 1px rgba(60, 64, 67, 0.15);\n",
              "      fill: #174EA6;\n",
              "    }\n",
              "\n",
              "    .colab-df-buttons div {\n",
              "      margin-bottom: 4px;\n",
              "    }\n",
              "\n",
              "    [theme=dark] .colab-df-convert {\n",
              "      background-color: #3B4455;\n",
              "      fill: #D2E3FC;\n",
              "    }\n",
              "\n",
              "    [theme=dark] .colab-df-convert:hover {\n",
              "      background-color: #434B5C;\n",
              "      box-shadow: 0px 1px 3px 1px rgba(0, 0, 0, 0.15);\n",
              "      filter: drop-shadow(0px 1px 2px rgba(0, 0, 0, 0.3));\n",
              "      fill: #FFFFFF;\n",
              "    }\n",
              "  </style>\n",
              "\n",
              "    <script>\n",
              "      const buttonEl =\n",
              "        document.querySelector('#df-e20d4a9e-b862-49ea-9559-cbda69d77429 button.colab-df-convert');\n",
              "      buttonEl.style.display =\n",
              "        google.colab.kernel.accessAllowed ? 'block' : 'none';\n",
              "\n",
              "      async function convertToInteractive(key) {\n",
              "        const element = document.querySelector('#df-e20d4a9e-b862-49ea-9559-cbda69d77429');\n",
              "        const dataTable =\n",
              "          await google.colab.kernel.invokeFunction('convertToInteractive',\n",
              "                                                    [key], {});\n",
              "        if (!dataTable) return;\n",
              "\n",
              "        const docLinkHtml = 'Like what you see? Visit the ' +\n",
              "          '<a target=\"_blank\" href=https://colab.research.google.com/notebooks/data_table.ipynb>data table notebook</a>'\n",
              "          + ' to learn more about interactive tables.';\n",
              "        element.innerHTML = '';\n",
              "        dataTable['output_type'] = 'display_data';\n",
              "        await google.colab.output.renderOutput(dataTable, element);\n",
              "        const docLink = document.createElement('div');\n",
              "        docLink.innerHTML = docLinkHtml;\n",
              "        element.appendChild(docLink);\n",
              "      }\n",
              "    </script>\n",
              "  </div>\n",
              "\n",
              "\n",
              "<div id=\"df-66c55b04-222f-4b93-82eb-b64885d3e5cd\">\n",
              "  <button class=\"colab-df-quickchart\" onclick=\"quickchart('df-66c55b04-222f-4b93-82eb-b64885d3e5cd')\"\n",
              "            title=\"Suggest charts\"\n",
              "            style=\"display:none;\">\n",
              "\n",
              "<svg xmlns=\"http://www.w3.org/2000/svg\" height=\"24px\"viewBox=\"0 0 24 24\"\n",
              "     width=\"24px\">\n",
              "    <g>\n",
              "        <path d=\"M19 3H5c-1.1 0-2 .9-2 2v14c0 1.1.9 2 2 2h14c1.1 0 2-.9 2-2V5c0-1.1-.9-2-2-2zM9 17H7v-7h2v7zm4 0h-2V7h2v10zm4 0h-2v-4h2v4z\"/>\n",
              "    </g>\n",
              "</svg>\n",
              "  </button>\n",
              "\n",
              "<style>\n",
              "  .colab-df-quickchart {\n",
              "      --bg-color: #E8F0FE;\n",
              "      --fill-color: #1967D2;\n",
              "      --hover-bg-color: #E2EBFA;\n",
              "      --hover-fill-color: #174EA6;\n",
              "      --disabled-fill-color: #AAA;\n",
              "      --disabled-bg-color: #DDD;\n",
              "  }\n",
              "\n",
              "  [theme=dark] .colab-df-quickchart {\n",
              "      --bg-color: #3B4455;\n",
              "      --fill-color: #D2E3FC;\n",
              "      --hover-bg-color: #434B5C;\n",
              "      --hover-fill-color: #FFFFFF;\n",
              "      --disabled-bg-color: #3B4455;\n",
              "      --disabled-fill-color: #666;\n",
              "  }\n",
              "\n",
              "  .colab-df-quickchart {\n",
              "    background-color: var(--bg-color);\n",
              "    border: none;\n",
              "    border-radius: 50%;\n",
              "    cursor: pointer;\n",
              "    display: none;\n",
              "    fill: var(--fill-color);\n",
              "    height: 32px;\n",
              "    padding: 0;\n",
              "    width: 32px;\n",
              "  }\n",
              "\n",
              "  .colab-df-quickchart:hover {\n",
              "    background-color: var(--hover-bg-color);\n",
              "    box-shadow: 0 1px 2px rgba(60, 64, 67, 0.3), 0 1px 3px 1px rgba(60, 64, 67, 0.15);\n",
              "    fill: var(--button-hover-fill-color);\n",
              "  }\n",
              "\n",
              "  .colab-df-quickchart-complete:disabled,\n",
              "  .colab-df-quickchart-complete:disabled:hover {\n",
              "    background-color: var(--disabled-bg-color);\n",
              "    fill: var(--disabled-fill-color);\n",
              "    box-shadow: none;\n",
              "  }\n",
              "\n",
              "  .colab-df-spinner {\n",
              "    border: 2px solid var(--fill-color);\n",
              "    border-color: transparent;\n",
              "    border-bottom-color: var(--fill-color);\n",
              "    animation:\n",
              "      spin 1s steps(1) infinite;\n",
              "  }\n",
              "\n",
              "  @keyframes spin {\n",
              "    0% {\n",
              "      border-color: transparent;\n",
              "      border-bottom-color: var(--fill-color);\n",
              "      border-left-color: var(--fill-color);\n",
              "    }\n",
              "    20% {\n",
              "      border-color: transparent;\n",
              "      border-left-color: var(--fill-color);\n",
              "      border-top-color: var(--fill-color);\n",
              "    }\n",
              "    30% {\n",
              "      border-color: transparent;\n",
              "      border-left-color: var(--fill-color);\n",
              "      border-top-color: var(--fill-color);\n",
              "      border-right-color: var(--fill-color);\n",
              "    }\n",
              "    40% {\n",
              "      border-color: transparent;\n",
              "      border-right-color: var(--fill-color);\n",
              "      border-top-color: var(--fill-color);\n",
              "    }\n",
              "    60% {\n",
              "      border-color: transparent;\n",
              "      border-right-color: var(--fill-color);\n",
              "    }\n",
              "    80% {\n",
              "      border-color: transparent;\n",
              "      border-right-color: var(--fill-color);\n",
              "      border-bottom-color: var(--fill-color);\n",
              "    }\n",
              "    90% {\n",
              "      border-color: transparent;\n",
              "      border-bottom-color: var(--fill-color);\n",
              "    }\n",
              "  }\n",
              "</style>\n",
              "\n",
              "  <script>\n",
              "    async function quickchart(key) {\n",
              "      const quickchartButtonEl =\n",
              "        document.querySelector('#' + key + ' button');\n",
              "      quickchartButtonEl.disabled = true;  // To prevent multiple clicks.\n",
              "      quickchartButtonEl.classList.add('colab-df-spinner');\n",
              "      try {\n",
              "        const charts = await google.colab.kernel.invokeFunction(\n",
              "            'suggestCharts', [key], {});\n",
              "      } catch (error) {\n",
              "        console.error('Error during call to suggestCharts:', error);\n",
              "      }\n",
              "      quickchartButtonEl.classList.remove('colab-df-spinner');\n",
              "      quickchartButtonEl.classList.add('colab-df-quickchart-complete');\n",
              "    }\n",
              "    (() => {\n",
              "      let quickchartButtonEl =\n",
              "        document.querySelector('#df-66c55b04-222f-4b93-82eb-b64885d3e5cd button');\n",
              "      quickchartButtonEl.style.display =\n",
              "        google.colab.kernel.accessAllowed ? 'block' : 'none';\n",
              "    })();\n",
              "  </script>\n",
              "</div>\n",
              "\n",
              "    </div>\n",
              "  </div>\n"
            ],
            "application/vnd.google.colaboratory.intrinsic+json": {
              "type": "dataframe",
              "variable_name": "datos_generales"
            }
          },
          "metadata": {},
          "execution_count": 6
        }
      ]
    },
    {
      "cell_type": "markdown",
      "source": [
        "#**EDA** **Simplificado**\n",
        "\n",
        "\n"
      ],
      "metadata": {
        "id": "EK3TzH33NXsW"
      }
    },
    {
      "cell_type": "markdown",
      "source": [
        "Antes de realizar el preprocesado de datos, debemos analizar el set de datos para sacar información importante para el ejercicio. Los pasos de este análisis son los siguientes:"
      ],
      "metadata": {
        "id": "KCa1QSeKEFVN"
      }
    },
    {
      "cell_type": "markdown",
      "source": [
        "## ¿Cuantas variables e instancias hay?\n",
        "\n",
        "  El set de availabledata contiene un total de 2940 instancias y 31 variables. Para calcularlo hemos utilizado el comando *shape*.  \n"
      ],
      "metadata": {
        "id": "2J1bo7Y7_kMG"
      }
    },
    {
      "cell_type": "code",
      "source": [
        "from IPython.display import display\n",
        "\n",
        "display(datos_generales.shape)"
      ],
      "metadata": {
        "colab": {
          "base_uri": "https://localhost:8080/",
          "height": 34
        },
        "id": "enCqMlmsQzDK",
        "outputId": "1c793dab-ed80-4ba1-b6b6-0dbe2879941f"
      },
      "execution_count": null,
      "outputs": [
        {
          "output_type": "display_data",
          "data": {
            "text/plain": [
              "(2940, 31)"
            ]
          },
          "metadata": {}
        }
      ]
    },
    {
      "cell_type": "markdown",
      "source": [
        "##Tipos de variables\n",
        "\n",
        " En el conjunto de datos propuesto para el ejercicio se pueden identificar varios tipos de variable. Para mostrarlos usamos el comando *dtype*, el cual te muestra cada variable con su tipo.\n",
        "\n"
      ],
      "metadata": {
        "id": "j2SxO_TETzqi"
      }
    },
    {
      "cell_type": "code",
      "source": [
        "from IPython.display import display\n",
        "\n",
        "display(datos_generales.dtypes)"
      ],
      "metadata": {
        "colab": {
          "base_uri": "https://localhost:8080/",
          "height": 1000
        },
        "id": "p4tamPtTUQXz",
        "outputId": "4bfc4983-22ec-44bc-ae9e-d647f1d55e2c"
      },
      "execution_count": null,
      "outputs": [
        {
          "output_type": "display_data",
          "data": {
            "text/plain": [
              "hrs                        float64\n",
              "absences                     int64\n",
              "JobInvolvement               int64\n",
              "PerformanceRating            int64\n",
              "EnvironmentSatisfaction    float64\n",
              "JobSatisfaction            float64\n",
              "WorkLifeBalance            float64\n",
              "Age                          int64\n",
              "BusinessTravel              object\n",
              "Department                  object\n",
              "DistanceFromHome             int64\n",
              "Education                    int64\n",
              "EducationField              object\n",
              "EmployeeCount                int64\n",
              "EmployeeID                   int64\n",
              "Gender                      object\n",
              "JobLevel                     int64\n",
              "JobRole                     object\n",
              "MaritalStatus               object\n",
              "MonthlyIncome                int64\n",
              "NumCompaniesWorked         float64\n",
              "Over18                      object\n",
              "PercentSalaryHike            int64\n",
              "StandardHours                int64\n",
              "StockOptionLevel             int64\n",
              "TotalWorkingYears          float64\n",
              "TrainingTimesLastYear        int64\n",
              "YearsAtCompany               int64\n",
              "YearsSinceLastPromotion      int64\n",
              "YearsWithCurrManager         int64\n",
              "Attrition                   object\n",
              "dtype: object"
            ],
            "text/html": [
              "<div>\n",
              "<style scoped>\n",
              "    .dataframe tbody tr th:only-of-type {\n",
              "        vertical-align: middle;\n",
              "    }\n",
              "\n",
              "    .dataframe tbody tr th {\n",
              "        vertical-align: top;\n",
              "    }\n",
              "\n",
              "    .dataframe thead th {\n",
              "        text-align: right;\n",
              "    }\n",
              "</style>\n",
              "<table border=\"1\" class=\"dataframe\">\n",
              "  <thead>\n",
              "    <tr style=\"text-align: right;\">\n",
              "      <th></th>\n",
              "      <th>0</th>\n",
              "    </tr>\n",
              "  </thead>\n",
              "  <tbody>\n",
              "    <tr>\n",
              "      <th>hrs</th>\n",
              "      <td>float64</td>\n",
              "    </tr>\n",
              "    <tr>\n",
              "      <th>absences</th>\n",
              "      <td>int64</td>\n",
              "    </tr>\n",
              "    <tr>\n",
              "      <th>JobInvolvement</th>\n",
              "      <td>int64</td>\n",
              "    </tr>\n",
              "    <tr>\n",
              "      <th>PerformanceRating</th>\n",
              "      <td>int64</td>\n",
              "    </tr>\n",
              "    <tr>\n",
              "      <th>EnvironmentSatisfaction</th>\n",
              "      <td>float64</td>\n",
              "    </tr>\n",
              "    <tr>\n",
              "      <th>JobSatisfaction</th>\n",
              "      <td>float64</td>\n",
              "    </tr>\n",
              "    <tr>\n",
              "      <th>WorkLifeBalance</th>\n",
              "      <td>float64</td>\n",
              "    </tr>\n",
              "    <tr>\n",
              "      <th>Age</th>\n",
              "      <td>int64</td>\n",
              "    </tr>\n",
              "    <tr>\n",
              "      <th>BusinessTravel</th>\n",
              "      <td>object</td>\n",
              "    </tr>\n",
              "    <tr>\n",
              "      <th>Department</th>\n",
              "      <td>object</td>\n",
              "    </tr>\n",
              "    <tr>\n",
              "      <th>DistanceFromHome</th>\n",
              "      <td>int64</td>\n",
              "    </tr>\n",
              "    <tr>\n",
              "      <th>Education</th>\n",
              "      <td>int64</td>\n",
              "    </tr>\n",
              "    <tr>\n",
              "      <th>EducationField</th>\n",
              "      <td>object</td>\n",
              "    </tr>\n",
              "    <tr>\n",
              "      <th>EmployeeCount</th>\n",
              "      <td>int64</td>\n",
              "    </tr>\n",
              "    <tr>\n",
              "      <th>EmployeeID</th>\n",
              "      <td>int64</td>\n",
              "    </tr>\n",
              "    <tr>\n",
              "      <th>Gender</th>\n",
              "      <td>object</td>\n",
              "    </tr>\n",
              "    <tr>\n",
              "      <th>JobLevel</th>\n",
              "      <td>int64</td>\n",
              "    </tr>\n",
              "    <tr>\n",
              "      <th>JobRole</th>\n",
              "      <td>object</td>\n",
              "    </tr>\n",
              "    <tr>\n",
              "      <th>MaritalStatus</th>\n",
              "      <td>object</td>\n",
              "    </tr>\n",
              "    <tr>\n",
              "      <th>MonthlyIncome</th>\n",
              "      <td>int64</td>\n",
              "    </tr>\n",
              "    <tr>\n",
              "      <th>NumCompaniesWorked</th>\n",
              "      <td>float64</td>\n",
              "    </tr>\n",
              "    <tr>\n",
              "      <th>Over18</th>\n",
              "      <td>object</td>\n",
              "    </tr>\n",
              "    <tr>\n",
              "      <th>PercentSalaryHike</th>\n",
              "      <td>int64</td>\n",
              "    </tr>\n",
              "    <tr>\n",
              "      <th>StandardHours</th>\n",
              "      <td>int64</td>\n",
              "    </tr>\n",
              "    <tr>\n",
              "      <th>StockOptionLevel</th>\n",
              "      <td>int64</td>\n",
              "    </tr>\n",
              "    <tr>\n",
              "      <th>TotalWorkingYears</th>\n",
              "      <td>float64</td>\n",
              "    </tr>\n",
              "    <tr>\n",
              "      <th>TrainingTimesLastYear</th>\n",
              "      <td>int64</td>\n",
              "    </tr>\n",
              "    <tr>\n",
              "      <th>YearsAtCompany</th>\n",
              "      <td>int64</td>\n",
              "    </tr>\n",
              "    <tr>\n",
              "      <th>YearsSinceLastPromotion</th>\n",
              "      <td>int64</td>\n",
              "    </tr>\n",
              "    <tr>\n",
              "      <th>YearsWithCurrManager</th>\n",
              "      <td>int64</td>\n",
              "    </tr>\n",
              "    <tr>\n",
              "      <th>Attrition</th>\n",
              "      <td>object</td>\n",
              "    </tr>\n",
              "  </tbody>\n",
              "</table>\n",
              "</div><br><label><b>dtype:</b> object</label>"
            ]
          },
          "metadata": {}
        }
      ]
    },
    {
      "cell_type": "markdown",
      "source": [
        "##Variables categóricas con alta cardinalidad\n",
        "\n",
        "  Debemos estudiar si hay variables categóricas con alta cardinalidad, es decir, variables que toman un gran número de valores distintos, ya que estas variables pueden causar problemas y hacer que el modelo sea más complejo.\n",
        "\n",
        "  El código para identificarlas es el siguiente:"
      ],
      "metadata": {
        "id": "FmNAw4oPUbuS"
      }
    },
    {
      "cell_type": "code",
      "source": [
        "for col in datos_generales.select_dtypes(include=['object']).columns:\n",
        "    print(f'{col}: {datos_generales[col].nunique()} valores únicos')"
      ],
      "metadata": {
        "colab": {
          "base_uri": "https://localhost:8080/"
        },
        "id": "SWNVt6CNV6wF",
        "outputId": "bbb4a332-b0a0-4467-b566-e31c97e67c24"
      },
      "execution_count": null,
      "outputs": [
        {
          "output_type": "stream",
          "name": "stdout",
          "text": [
            "BusinessTravel: 3 valores únicos\n",
            "Department: 3 valores únicos\n",
            "EducationField: 6 valores únicos\n",
            "Gender: 2 valores únicos\n",
            "JobRole: 9 valores únicos\n",
            "MaritalStatus: 3 valores únicos\n",
            "Over18: 1 valores únicos\n",
            "Attrition: 2 valores únicos\n"
          ]
        }
      ]
    },
    {
      "cell_type": "markdown",
      "source": [
        "##¿Que variables tienen valores faltantes y cuantos?\n",
        "\n",
        "  Para saber que variables tienen valores faltantes, es decir que en alguna de las instancias no tenga valor asignado, utilizamos el comando *isnull*."
      ],
      "metadata": {
        "id": "-j3uvCqsWaQ0"
      }
    },
    {
      "cell_type": "code",
      "source": [
        "datos_generales.isnull().sum() # Añadimos el sum para que nos muestre una cuenta total de valores nulos y no uno por uno"
      ],
      "metadata": {
        "colab": {
          "base_uri": "https://localhost:8080/",
          "height": 1000
        },
        "id": "QPSzkJOQXMZV",
        "outputId": "3f44b09d-301d-465e-d5f2-631df4084a91"
      },
      "execution_count": null,
      "outputs": [
        {
          "output_type": "execute_result",
          "data": {
            "text/plain": [
              "hrs                         0\n",
              "absences                    0\n",
              "JobInvolvement              0\n",
              "PerformanceRating           0\n",
              "EnvironmentSatisfaction    15\n",
              "JobSatisfaction            12\n",
              "WorkLifeBalance            29\n",
              "Age                         0\n",
              "BusinessTravel              0\n",
              "Department                  0\n",
              "DistanceFromHome            0\n",
              "Education                   0\n",
              "EducationField              0\n",
              "EmployeeCount               0\n",
              "EmployeeID                  0\n",
              "Gender                      0\n",
              "JobLevel                    0\n",
              "JobRole                     0\n",
              "MaritalStatus               0\n",
              "MonthlyIncome               0\n",
              "NumCompaniesWorked         17\n",
              "Over18                      0\n",
              "PercentSalaryHike           0\n",
              "StandardHours               0\n",
              "StockOptionLevel            0\n",
              "TotalWorkingYears           5\n",
              "TrainingTimesLastYear       0\n",
              "YearsAtCompany              0\n",
              "YearsSinceLastPromotion     0\n",
              "YearsWithCurrManager        0\n",
              "Attrition                   0\n",
              "dtype: int64"
            ],
            "text/html": [
              "<div>\n",
              "<style scoped>\n",
              "    .dataframe tbody tr th:only-of-type {\n",
              "        vertical-align: middle;\n",
              "    }\n",
              "\n",
              "    .dataframe tbody tr th {\n",
              "        vertical-align: top;\n",
              "    }\n",
              "\n",
              "    .dataframe thead th {\n",
              "        text-align: right;\n",
              "    }\n",
              "</style>\n",
              "<table border=\"1\" class=\"dataframe\">\n",
              "  <thead>\n",
              "    <tr style=\"text-align: right;\">\n",
              "      <th></th>\n",
              "      <th>0</th>\n",
              "    </tr>\n",
              "  </thead>\n",
              "  <tbody>\n",
              "    <tr>\n",
              "      <th>hrs</th>\n",
              "      <td>0</td>\n",
              "    </tr>\n",
              "    <tr>\n",
              "      <th>absences</th>\n",
              "      <td>0</td>\n",
              "    </tr>\n",
              "    <tr>\n",
              "      <th>JobInvolvement</th>\n",
              "      <td>0</td>\n",
              "    </tr>\n",
              "    <tr>\n",
              "      <th>PerformanceRating</th>\n",
              "      <td>0</td>\n",
              "    </tr>\n",
              "    <tr>\n",
              "      <th>EnvironmentSatisfaction</th>\n",
              "      <td>15</td>\n",
              "    </tr>\n",
              "    <tr>\n",
              "      <th>JobSatisfaction</th>\n",
              "      <td>12</td>\n",
              "    </tr>\n",
              "    <tr>\n",
              "      <th>WorkLifeBalance</th>\n",
              "      <td>29</td>\n",
              "    </tr>\n",
              "    <tr>\n",
              "      <th>Age</th>\n",
              "      <td>0</td>\n",
              "    </tr>\n",
              "    <tr>\n",
              "      <th>BusinessTravel</th>\n",
              "      <td>0</td>\n",
              "    </tr>\n",
              "    <tr>\n",
              "      <th>Department</th>\n",
              "      <td>0</td>\n",
              "    </tr>\n",
              "    <tr>\n",
              "      <th>DistanceFromHome</th>\n",
              "      <td>0</td>\n",
              "    </tr>\n",
              "    <tr>\n",
              "      <th>Education</th>\n",
              "      <td>0</td>\n",
              "    </tr>\n",
              "    <tr>\n",
              "      <th>EducationField</th>\n",
              "      <td>0</td>\n",
              "    </tr>\n",
              "    <tr>\n",
              "      <th>EmployeeCount</th>\n",
              "      <td>0</td>\n",
              "    </tr>\n",
              "    <tr>\n",
              "      <th>EmployeeID</th>\n",
              "      <td>0</td>\n",
              "    </tr>\n",
              "    <tr>\n",
              "      <th>Gender</th>\n",
              "      <td>0</td>\n",
              "    </tr>\n",
              "    <tr>\n",
              "      <th>JobLevel</th>\n",
              "      <td>0</td>\n",
              "    </tr>\n",
              "    <tr>\n",
              "      <th>JobRole</th>\n",
              "      <td>0</td>\n",
              "    </tr>\n",
              "    <tr>\n",
              "      <th>MaritalStatus</th>\n",
              "      <td>0</td>\n",
              "    </tr>\n",
              "    <tr>\n",
              "      <th>MonthlyIncome</th>\n",
              "      <td>0</td>\n",
              "    </tr>\n",
              "    <tr>\n",
              "      <th>NumCompaniesWorked</th>\n",
              "      <td>17</td>\n",
              "    </tr>\n",
              "    <tr>\n",
              "      <th>Over18</th>\n",
              "      <td>0</td>\n",
              "    </tr>\n",
              "    <tr>\n",
              "      <th>PercentSalaryHike</th>\n",
              "      <td>0</td>\n",
              "    </tr>\n",
              "    <tr>\n",
              "      <th>StandardHours</th>\n",
              "      <td>0</td>\n",
              "    </tr>\n",
              "    <tr>\n",
              "      <th>StockOptionLevel</th>\n",
              "      <td>0</td>\n",
              "    </tr>\n",
              "    <tr>\n",
              "      <th>TotalWorkingYears</th>\n",
              "      <td>5</td>\n",
              "    </tr>\n",
              "    <tr>\n",
              "      <th>TrainingTimesLastYear</th>\n",
              "      <td>0</td>\n",
              "    </tr>\n",
              "    <tr>\n",
              "      <th>YearsAtCompany</th>\n",
              "      <td>0</td>\n",
              "    </tr>\n",
              "    <tr>\n",
              "      <th>YearsSinceLastPromotion</th>\n",
              "      <td>0</td>\n",
              "    </tr>\n",
              "    <tr>\n",
              "      <th>YearsWithCurrManager</th>\n",
              "      <td>0</td>\n",
              "    </tr>\n",
              "    <tr>\n",
              "      <th>Attrition</th>\n",
              "      <td>0</td>\n",
              "    </tr>\n",
              "  </tbody>\n",
              "</table>\n",
              "</div><br><label><b>dtype:</b> int64</label>"
            ]
          },
          "metadata": {},
          "execution_count": 17
        }
      ]
    },
    {
      "cell_type": "markdown",
      "source": [
        "## Columnas constantes o de id\n",
        "\n",
        "  Columnas constantes son aquellas que tienen el mismo valor para todas las instancias del conjunto de datos.\n",
        "\n",
        "  Por otro lado, columnas de id son aquellas que contienen identificadores únicos para cada instancia.\n",
        "\n",
        "  En nuestro conjunto de datos, la primera columna es de ID y podemos usar el comando nunique. Ya que en la pregunta 3 lo necesitabamos, vimos en el resultado que la variable Over18 es constante, y por lo tanto, no aporta información útil en el desarrollo del ejercicio.\n",
        "  "
      ],
      "metadata": {
        "id": "lDBCOI9iXbse"
      }
    },
    {
      "cell_type": "markdown",
      "source": [
        "##Regresion o clasificación:\n",
        "\n",
        "  Se trata de un problema de clasificación, ya que la columna de clases no contiene valores reales. Además vemos que está completamente desbalanceado ya que tenemos 474 valores de attrition 'No' y 2466 de 'Yes'. El código para esta resolución es el siguiente:"
      ],
      "metadata": {
        "id": "jS9M4XHUZBVa"
      }
    },
    {
      "cell_type": "code",
      "source": [
        "# Creamos contadores para cada valor\n",
        "contador_yes = 0\n",
        "contador_no = 0\n",
        "\n",
        "# Recorremos todas las instancias de Attrition y vemos cuantos de cada valor hay\n",
        "for valor in datos_generales['Attrition']:\n",
        "    if valor == 'Yes':\n",
        "        contador_yes += 1\n",
        "    elif valor == 'No':\n",
        "        contador_no += 1\n",
        "\n",
        "print(f'Yes: {contador_yes}')\n",
        "print(f'No: {contador_no}')\n"
      ],
      "metadata": {
        "colab": {
          "base_uri": "https://localhost:8080/"
        },
        "id": "W3Qol-y7ZHk3",
        "outputId": "a4a2e856-7b41-4942-c58b-40cb30a0bbc4"
      },
      "execution_count": null,
      "outputs": [
        {
          "output_type": "stream",
          "name": "stdout",
          "text": [
            "Yes: 474\n",
            "No: 2466\n"
          ]
        }
      ]
    },
    {
      "cell_type": "markdown",
      "source": [
        "# **3. DECIDIR CÓMO SE VA A REALIZAR LA EVALUACIÓN**"
      ],
      "metadata": {
        "id": "o-09h-s0s-oi"
      }
    },
    {
      "cell_type": "markdown",
      "source": [
        "El objetivo de esta sección es definir correctamente la estrategia de evaluación del modelo, asegurando que los resultados sean fiables y reproducibles. Se propone un enfoque de doble nivel de evaluación:\n",
        "\n",
        "\n",
        "1.   Evaluación Outer (Holdout): Para estimar el rendimiento futuro real del modelo.\n",
        "2.   Evaluación Inner (Cross Validation): Para comparar modelos y realizar optimización de hiperparámetros (HPO) dentro de la partición de entrenamiento (train).\n",
        "\n"
      ],
      "metadata": {
        "id": "a53Laj1lv1Tw"
      }
    },
    {
      "cell_type": "markdown",
      "source": [
        "## 3.1 Visión general del proceso\n",
        "El siguiente esquema muestra el flujo de evaluación:\n",
        "![esquema.drawio(1).png](data:image/png;base64,iVBORw0KGgoAAAANSUhEUgAAAZIAAAFMCAYAAADhtjqlAAAUG3RFWHRteGZpbGUAJTNDbXhmaWxlJTIwaG9zdCUzRCUyMmFwcC5kaWFncmFtcy5uZXQlMjIlMjBhZ2VudCUzRCUyMk1vemlsbGElMkY1LjAlMjAoWDExJTNCJTIwVWJ1bnR1JTNCJTIwTGludXglMjB4ODZfNjQlM0IlMjBydiUzQTEzNi4wKSUyMEdlY2tvJTJGMjAxMDAxMDElMjBGaXJlZm94JTJGMTM2LjAlMjIlMjB2ZXJzaW9uJTNEJTIyMjYuMS4wJTIyJTIwc2NhbGUlM0QlMjIxJTIyJTIwYm9yZGVyJTNEJTIyMCUyMiUzRSUwQSUyMCUyMCUzQ2RpYWdyYW0lMjBuYW1lJTNEJTIyUCVDMyVBMWdpbmEtMSUyMiUyMGlkJTNEJTIyM3NjN04wd3E3OXZ1SVRuLWJhMzYlMjIlM0UlMEElMjAlMjAlMjAlMjAlM0NteEdyYXBoTW9kZWwlMjBkeCUzRCUyMjEwMTIlMjIlMjBkeSUzRCUyMjU5MiUyMiUyMGdyaWQlM0QlMjIxJTIyJTIwZ3JpZFNpemUlM0QlMjIxMCUyMiUyMGd1aWRlcyUzRCUyMjElMjIlMjB0b29sdGlwcyUzRCUyMjElMjIlMjBjb25uZWN0JTNEJTIyMSUyMiUyMGFycm93cyUzRCUyMjElMjIlMjBmb2xkJTNEJTIyMSUyMiUyMHBhZ2UlM0QlMjIxJTIyJTIwcGFnZVNjYWxlJTNEJTIyMSUyMiUyMHBhZ2VXaWR0aCUzRCUyMjgyNyUyMiUyMHBhZ2VIZWlnaHQlM0QlMjIxMTY5JTIyJTIwbWF0aCUzRCUyMjAlMjIlMjBzaGFkb3clM0QlMjIwJTIyJTNFJTBBJTIwJTIwJTIwJTIwJTIwJTIwJTNDcm9vdCUzRSUwQSUyMCUyMCUyMCUyMCUyMCUyMCUyMCUyMCUzQ214Q2VsbCUyMGlkJTNEJTIyMCUyMiUyMCUyRiUzRSUwQSUyMCUyMCUyMCUyMCUyMCUyMCUyMCUyMCUzQ214Q2VsbCUyMGlkJTNEJTIyMSUyMiUyMHBhcmVudCUzRCUyMjAlMjIlMjAlMkYlM0UlMEElMjAlMjAlMjAlMjAlMjAlMjAlMjAlMjAlM0NteENlbGwlMjBpZCUzRCUyMjRqTjhSelBKLXRGS1JuNzZ0UjNULTElMjIlMjB2YWx1ZSUzRCUyMkRhdG9zJTIwVG90YWxlcyUyMiUyMHN0eWxlJTNEJTIycm91bmRlZCUzRDAlM0J3aGl0ZVNwYWNlJTNEd3JhcCUzQmh0bWwlM0QxJTNCJTIyJTIwdmVydGV4JTNEJTIyMSUyMiUyMHBhcmVudCUzRCUyMjElMjIlM0UlMEElMjAlMjAlMjAlMjAlMjAlMjAlMjAlMjAlMjAlMjAlM0NteEdlb21ldHJ5JTIweCUzRCUyMjEyMCUyMiUyMHklM0QlMjIxNjAlMjIlMjB3aWR0aCUzRCUyMjEyMCUyMiUyMGhlaWdodCUzRCUyMjYwJTIyJTIwYXMlM0QlMjJnZW9tZXRyeSUyMiUyMCUyRiUzRSUwQSUyMCUyMCUyMCUyMCUyMCUyMCUyMCUyMCUzQyUyRm14Q2VsbCUzRSUwQSUyMCUyMCUyMCUyMCUyMCUyMCUyMCUyMCUzQ214Q2VsbCUyMGlkJTNEJTIyNGpOOFJ6UEotdEZLUm43NnRSM1QtMiUyMiUyMHZhbHVlJTNEJTIyJTIyJTIwc3R5bGUlM0QlMjJlbmRBcnJvdyUzRGNsYXNzaWMlM0JodG1sJTNEMSUzQnJvdW5kZWQlM0QwJTNCZXhpdFglM0QwLjUlM0JleGl0WSUzRDElM0JleGl0RHglM0QwJTNCZXhpdER5JTNEMCUzQiUyMiUyMGVkZ2UlM0QlMjIxJTIyJTIwcGFyZW50JTNEJTIyMSUyMiUyMHNvdXJjZSUzRCUyMjRqTjhSelBKLXRGS1JuNzZ0UjNULTElMjIlMjB0YXJnZXQlM0QlMjI0ak44UnpQSi10RktSbjc2dFIzVC00JTIyJTNFJTBBJTIwJTIwJTIwJTIwJTIwJTIwJTIwJTIwJTIwJTIwJTNDbXhHZW9tZXRyeSUyMHdpZHRoJTNEJTIyNTAlMjIlMjBoZWlnaHQlM0QlMjI1MCUyMiUyMHJlbGF0aXZlJTNEJTIyMSUyMiUyMGFzJTNEJTIyZ2VvbWV0cnklMjIlM0UlMEElMjAlMjAlMjAlMjAlMjAlMjAlMjAlMjAlMjAlMjAlMjAlMjAlM0NteFBvaW50JTIweCUzRCUyMjM5MCUyMiUyMHklM0QlMjI0MDAlMjIlMjBhcyUzRCUyMnNvdXJjZVBvaW50JTIyJTIwJTJGJTNFJTBBJTIwJTIwJTIwJTIwJTIwJTIwJTIwJTIwJTIwJTIwJTIwJTIwJTNDbXhQb2ludCUyMHglM0QlMjIzMjAlMjIlMjB5JTNEJTIyMzIwJTIyJTIwYXMlM0QlMjJ0YXJnZXRQb2ludCUyMiUyMCUyRiUzRSUwQSUyMCUyMCUyMCUyMCUyMCUyMCUyMCUyMCUyMCUyMCUyMCUyMCUzQ0FycmF5JTIwYXMlM0QlMjJwb2ludHMlMjIlM0UlMEElMjAlMjAlMjAlMjAlMjAlMjAlMjAlMjAlMjAlMjAlMjAlMjAlMjAlMjAlM0NteFBvaW50JTIweCUzRCUyMjE4MCUyMiUyMHklM0QlMjIzMjAlMjIlMjAlMkYlM0UlMEElMjAlMjAlMjAlMjAlMjAlMjAlMjAlMjAlMjAlMjAlMjAlMjAlM0MlMkZBcnJheSUzRSUwQSUyMCUyMCUyMCUyMCUyMCUyMCUyMCUyMCUyMCUyMCUzQyUyRm14R2VvbWV0cnklM0UlMEElMjAlMjAlMjAlMjAlMjAlMjAlMjAlMjAlM0MlMkZteENlbGwlM0UlMEElMjAlMjAlMjAlMjAlMjAlMjAlMjAlMjAlM0NteENlbGwlMjBpZCUzRCUyMjRqTjhSelBKLXRGS1JuNzZ0UjNULTMlMjIlMjB2YWx1ZSUzRCUyMkhvbGRvdXQlMjBTdHJhdGlmaWNhZG8lMjIlMjBzdHlsZSUzRCUyMmVkZ2VMYWJlbCUzQmh0bWwlM0QxJTNCYWxpZ24lM0RjZW50ZXIlM0J2ZXJ0aWNhbEFsaWduJTNEbWlkZGxlJTNCcmVzaXphYmxlJTNEMCUzQnBvaW50cyUzRCU1QiU1RCUzQiUyMiUyMHZlcnRleCUzRCUyMjElMjIlMjBjb25uZWN0YWJsZSUzRCUyMjAlMjIlMjBwYXJlbnQlM0QlMjI0ak44UnpQSi10RktSbjc2dFIzVC0yJTIyJTNFJTBBJTIwJTIwJTIwJTIwJTIwJTIwJTIwJTIwJTIwJTIwJTNDbXhHZW9tZXRyeSUyMHglM0QlMjItMC4zNjQ3JTIyJTIweSUzRCUyMjElMjIlMjByZWxhdGl2ZSUzRCUyMjElMjIlMjBhcyUzRCUyMmdlb21ldHJ5JTIyJTNFJTBBJTIwJTIwJTIwJTIwJTIwJTIwJTIwJTIwJTIwJTIwJTIwJTIwJTNDbXhQb2ludCUyMGFzJTNEJTIyb2Zmc2V0JTIyJTIwJTJGJTNFJTBBJTIwJTIwJTIwJTIwJTIwJTIwJTIwJTIwJTIwJTIwJTNDJTJGbXhHZW9tZXRyeSUzRSUwQSUyMCUyMCUyMCUyMCUyMCUyMCUyMCUyMCUzQyUyRm14Q2VsbCUzRSUwQSUyMCUyMCUyMCUyMCUyMCUyMCUyMCUyMCUzQ214Q2VsbCUyMGlkJTNEJTIyNGpOOFJ6UEotdEZLUm43NnRSM1QtNCUyMiUyMHZhbHVlJTNEJTIyJTI2bHQlM0JkaXYlMjZndCUzQlRlc3QlMjAoMSUyRjMpJTI2bHQlM0IlMkZkaXYlMjZndCUzQiUyNmx0JTNCZGl2JTI2Z3QlM0IoRXZhbHVhY2klQzMlQjNuJTIwT3V0ZXIpJTI2bHQlM0IlMkZkaXYlMjZndCUzQiUyMiUyMHN0eWxlJTNEJTIycm91bmRlZCUzRDAlM0J3aGl0ZVNwYWNlJTNEd3JhcCUzQmh0bWwlM0QxJTNCJTIyJTIwdmVydGV4JTNEJTIyMSUyMiUyMHBhcmVudCUzRCUyMjElMjIlM0UlMEElMjAlMjAlMjAlMjAlMjAlMjAlMjAlMjAlMjAlMjAlM0NteEdlb21ldHJ5JTIweCUzRCUyMjMxMCUyMiUyMHklM0QlMjIyOTAlMjIlMjB3aWR0aCUzRCUyMjIxMCUyMiUyMGhlaWdodCUzRCUyMjYwJTIyJTIwYXMlM0QlMjJnZW9tZXRyeSUyMiUyMCUyRiUzRSUwQSUyMCUyMCUyMCUyMCUyMCUyMCUyMCUyMCUzQyUyRm14Q2VsbCUzRSUwQSUyMCUyMCUyMCUyMCUyMCUyMCUyMCUyMCUzQ214Q2VsbCUyMGlkJTNEJTIyNGpOOFJ6UEotdEZLUm43NnRSM1QtNSUyMiUyMHZhbHVlJTNEJTIyJTIyJTIwc3R5bGUlM0QlMjJlbmRBcnJvdyUzRGNsYXNzaWMlM0JodG1sJTNEMSUzQnJvdW5kZWQlM0QwJTNCJTIyJTIwZWRnZSUzRCUyMjElMjIlMjBwYXJlbnQlM0QlMjIxJTIyJTIwdGFyZ2V0JTNEJTIyNGpOOFJ6UEotdEZLUm43NnRSM1QtNiUyMiUzRSUwQSUyMCUyMCUyMCUyMCUyMCUyMCUyMCUyMCUyMCUyMCUzQ214R2VvbWV0cnklMjB3aWR0aCUzRCUyMjUwJTIyJTIwaGVpZ2h0JTNEJTIyNTAlMjIlMjByZWxhdGl2ZSUzRCUyMjElMjIlMjBhcyUzRCUyMmdlb21ldHJ5JTIyJTNFJTBBJTIwJTIwJTIwJTIwJTIwJTIwJTIwJTIwJTIwJTIwJTIwJTIwJTNDbXhQb2ludCUyMHglM0QlMjIxODAlMjIlMjB5JTNEJTIyMzIwJTIyJTIwYXMlM0QlMjJzb3VyY2VQb2ludCUyMiUyMCUyRiUzRSUwQSUyMCUyMCUyMCUyMCUyMCUyMCUyMCUyMCUyMCUyMCUyMCUyMCUzQ214UG9pbnQlMjB4JTNEJTIyMzEwJTIyJTIweSUzRCUyMjQyMCUyMiUyMGFzJTNEJTIydGFyZ2V0UG9pbnQlMjIlMjAlMkYlM0UlMEElMjAlMjAlMjAlMjAlMjAlMjAlMjAlMjAlMjAlMjAlMjAlMjAlM0NBcnJheSUyMGFzJTNEJTIycG9pbnRzJTIyJTNFJTBBJTIwJTIwJTIwJTIwJTIwJTIwJTIwJTIwJTIwJTIwJTIwJTIwJTIwJTIwJTNDbXhQb2ludCUyMHglM0QlMjIxODAlMjIlMjB5JTNEJTIyNDQwJTIyJTIwJTJGJTNFJTBBJTIwJTIwJTIwJTIwJTIwJTIwJTIwJTIwJTIwJTIwJTIwJTIwJTNDJTJGQXJyYXklM0UlMEElMjAlMjAlMjAlMjAlMjAlMjAlMjAlMjAlMjAlMjAlM0MlMkZteEdlb21ldHJ5JTNFJTBBJTIwJTIwJTIwJTIwJTIwJTIwJTIwJTIwJTNDJTJGbXhDZWxsJTNFJTBBJTIwJTIwJTIwJTIwJTIwJTIwJTIwJTIwJTNDbXhDZWxsJTIwaWQlM0QlMjI0ak44UnpQSi10RktSbjc2dFIzVC02JTIyJTIwdmFsdWUlM0QlMjIlMjZsdCUzQmRpdiUyNmd0JTNCVHJhaW4lMjAoMiUyRjMpJTI2bHQlM0IlMkZkaXYlMjZndCUzQiUyNmx0JTNCZGl2JTI2Z3QlM0IoRXZhbHVhY2lvbiUyMElubmVyKSUyNmx0JTNCJTJGZGl2JTI2Z3QlM0IlMjZsdCUzQmRpdiUyNmd0JTNCJTI2bHQlM0JiciUyNmd0JTNCJTI2bHQlM0IlMkZkaXYlMjZndCUzQiUyNmx0JTNCZGl2JTI2Z3QlM0ItJTIwU2UlMjBjb21wYXJhciVDMyVBMW4lMjBtb2RlbG9zJTI2bHQlM0IlMkZkaXYlMjZndCUzQiUyNmx0JTNCZGl2JTI2Z3QlM0ItJTIwU2UlMjBhanVzdGFuJTIwaGlwZXJwYXIlQzMlQTFtZXRyb3MlMjZsdCUzQiUyRmRpdiUyNmd0JTNCJTI2bHQlM0JkaXYlMjZndCUzQi0lMjBTZSUyMHNlbGVjY2lvbmElMjBlbCUyMG1lam9yJTIwbW9kZWxvJTI2bHQlM0IlMkZkaXYlMjZndCUzQiUyMiUyMHN0eWxlJTNEJTIycm91bmRlZCUzRDAlM0J3aGl0ZVNwYWNlJTNEd3JhcCUzQmh0bWwlM0QxJTNCJTIyJTIwdmVydGV4JTNEJTIyMSUyMiUyMHBhcmVudCUzRCUyMjElMjIlM0UlMEElMjAlMjAlMjAlMjAlMjAlMjAlMjAlMjAlMjAlMjAlM0NteEdlb21ldHJ5JTIweCUzRCUyMjMxMCUyMiUyMHklM0QlMjIzOTAlMjIlMjB3aWR0aCUzRCUyMjIxMCUyMiUyMGhlaWdodCUzRCUyMjEwMCUyMiUyMGFzJTNEJTIyZ2VvbWV0cnklMjIlMjAlMkYlM0UlMEElMjAlMjAlMjAlMjAlMjAlMjAlMjAlMjAlM0MlMkZteENlbGwlM0UlMEElMjAlMjAlMjAlMjAlMjAlMjAlM0MlMkZyb290JTNFJTBBJTIwJTIwJTIwJTIwJTNDJTJGbXhHcmFwaE1vZGVsJTNFJTBBJTIwJTIwJTNDJTJGZGlhZ3JhbSUzRSUwQSUzQyUyRm14ZmlsZSUzRSUwQZ8Rn/cAACAASURBVHhe7Z0JvFVT2IdXUsk8pUyZpyRDijJEyJg5UyJkLjJEhGQeI/MUSYYoiURkJkOGDMkslXkoY4ju53m/b99v39PZ557u2WefPfzX7xf3nrP3Gp533/Xf7xreVc85V/XfP6UUE6iqkolTbF41TQQqTqAeQqKOpuJ2KFsF6tWrh4HLlr8yFgEREAEJScqfAQlJyg2s5olADAhISGJghHJWQUJSTrrKWwREAAISkpQ/BxKSlBtYzROBGBCQkMTACOWsgoSknHSVtwiIgDySDDwDEpIMGFlNFIEKE5BHUmEDlLt4CUm5CSt/ERABCUnKnwEJScoNrOaJQAwISEhiYIRyVkFCUk66ylsEREBzJBl4BiQkGTCymigCFSYgj6TCBih38RKSchNW/iIgAhKSlD8DEpKUG1jNE4EYEJCQxMAI5ayChKScdJW3CIiA5kgy8AxISDJgZDVRBCpMQB5JhQ1Q7uIlJOUmrPxFQAQkJCl/BiQkKTewmicCMSAgIYmBEcpZBQlJOekqbxEQAc2RZOAZkJBkwMhqoghUmIA8kgoboNzFS0jKTVj5i4AISEhS/gxISFJuYDVPBGJAQEISAyOUswoSknLSVd4iIAKaI8nAMyAhyYCR1UQRqDABeSQVNkC5i5eQlJuw8hcBEZCQpPwZkJCk3MBqngjEgICEJAZGKGcVJCTlpKu8RUAEIpkjWWqppdyvv/7q6NAaNGjgNtxwQ3fxxRe7bbbZplYLnHHGGe6ggw5yG2ywQa3X1nYBZZOqqqrcv//+6xZccEH7fY011nAffPBB4O2TJ092Q4cOdZdeemnBIgYNGuSmTp3qrrrqqtqqEun3EpJIcaswEcgkgbJ7JAjJiy++6NZff33322+/udGjR7vjjz/ePfPMM27jjTcuCH2HHXZwZ511luvQoUNoxvniiy/cmmuu6ebMmVNUni+99JLVgfoWShKSonDqIhEQgRQSiFRIPH50zJ988om777773J9//ulOOOEE9/DDD9vP22+/vbvrrrvcFVdcYV7AcsstZ7+3a9fO9e/f391xxx2WzcEHH+wuvPBCV79+fXfTTTfZz3g+eDr33HOPW3jhhfOaK0hIRowY4fr16+d++uknt/XWW7ubb77ZvKg2bdq47777zu2xxx7u7rvvdtdcc415HT/++KNr0aKFu/POO90666zj/EIyffp0d+SRR7o33nij2gMjHzwhRHTkyJFWt2OPPdadd955ZX2s5JGUFa8yFwER+I9ARYTkhRdecEcccYT76KOPrCO++uqr3ZNPPmmigJD06dPHHXDAAc7vkXAdHfi4cePsup133tkdddRR1sGvttpq1mmvuOKKbqeddnLdu3e3jjxfyickn376qQkGeTP01qtXL/OeEA6/R8K96667rps4caJba621XO/evW2oDCHzC0n79u2tXrTjkUcecT179nTvvfeetfGiiy5yTz31lPv555+tLPJae+21y/YwSkjKhlYZi4AI/B+BigjJhx9+6DbddFPzIPg3d+5ct8QSSzg66q5du7pu3bq5o48+uoaQdO7c2e2///7miZDuv/9+N3jwYPfggw+agNxwww1u7733dgsttFBB4+YTkiuvvNJNmTLF3XbbbXYvHkjz5s3d7Nmz3YQJE6qHtv7++283a9Ys85LwXM4991z3/fffu3vvvbdaSBAhhuy++eYb17hxY8sPj4UyFl10UXfYYYfZnMsWW2zhFlhggbI/iBKSsiNWASKQeQIVERLmTA4//HDzSOi08SzwKJi7+OGHH+wNPldI8BjojBl2Ir366quuR48e7t133zUxueSSS+znHXfc0V177bVu5ZVXLtojwXNYbLHF3DnnnFN9DyIwY8YMm4j35kj++ecf17dvXxOxZs2amTA0bdq0hpDsueee5i0xie9PDL0hhngkt99+u5s5c6aJIkN4DRs2LNuDKCEpG1plLAIiUEmPhA4bEWGOBMEgMffQqFEjG/Jq27ZtXo+E4S48FhLzDMxj0KnjFTDUhAiddNJJbvHFF3fXX3990UKCQCEYt956q93D/McKK6xgHsnLL79cLSR4HnT8TzzxhFtmmWVs7mbs2LE1hIT27L777tY+L7311lsmkngzrB5DhCjvwAMPdGeeeabr0qVL2R5ICUnZ0CpjERCBSggJHfOYMWPMA3n66adtCGjfffe1FV0DBgxwDHkx5MOkOkNEzJGceuqp5mUwyY6nwTwDQ0LeXAieCh33448/bkNIJ598svvjjz+qJ+VzLZ1vaOvjjz92m2++uc1dtGzZ0ib/EZPhw4fbHAl1QFCuu+46N2rUKCuLMnbbbTcb5kLUvDkSRIm5D7wqPCauxfNgAp65FERoyJAhNuzVqVMnu+7QQw8t2wMpISkbWmUsAiIQpZDQ6dL5869Vq1Y19pHwto6X8fvvv9uEN0LCWz8dNx35wIED3QMPPOCYwD777LNtcp7E/hKGidgPwls93gRDT5tttpkNHeFR5EtBq7bwbMifIactt9zSvJ0mTZrY73hI1Jt8ET6G0PCAWHV1yimn2PzMtGnTqveRIIh4Ju+8847N3yAyHTt2tPkgROXZZ5+1uZx99tnHPDFvT0s5nkoJSTmoKk8REAE/gbLPkQh3ZQlISCrLX6WLQBYISEhSbmUJScoNrOaJQAwISEhiYIRyVkFCUk66ylsERAACEpKUPwcSkpQbWM0TgRgQkJDEwAjlrIKEpJx0lbcIiIA8kgw8AxKSDBhZTRSBChOQR1JhA5S7eAlJuQkrfxEQAQlJyp8BCUnKDazmiUAMCEhIYmCEclZBQlJOuspbBERAcyQZeAYkJBkwspooAhUmII+kwgYod/ESknITVv4iIAISkpQ/AxKSlBtYzROBGBCQkMTACOWsgoSknHSVtwiIgOZIMvAMSEgyYGQ1UQQqTEAeSYUNUO7iJSTlJqz8RUAEJCQpfwYkJCk3sJonAjEgICGJgRHKWQUJSTnpKm8REAHNkWTgGZCQZMDIaqIIVJiAPJIKG6DcxUtIyk1Y+YuACEhIUv4MSEhSbmA1TwRiQEBCEgMjlLMKEpJy0lXeIiACmiPJwDMgIcmAkdVEEagwAXkkFTZAuYuXkJSbsPIXARGQkKT8GZCQpNzAap4IxICAhCQGRihnFSQk5aSrvEVABKrnSIQi3QSqqqrS3UC1TgREoKIE6v3XyWSql9EbekWfNxUuAiKQQgISkhQaVU0SAREQgSgJSEiipK2yREAERCCFBCQkKTSqmiQCIiACURKQkERJW2WJgAiIQAoJSEhSaFQ1SQREQASiJCAhiZK2yhIBERCBFBKQkKTQqGqSCIiACERJQEISJW2VJQIiIAIpJCAhSaFR1SQREAERiJKAhCRK2ipLBERABFJIQEKSQqOqSSIgAiIQJQEJSZS0VZYIiIAIpJCAhCSFRlWTREAERCBKAhKSKGmrLBEQARFIIQEJSQqNqiaJgAiIQJQEJCRR0lZZIiACIpBCAhKSFBpVTRIBERCBKAlISKKkrbJEQAREIIUEJCQpNKqaJAIiIAJREpCQRElbZYmACIhACglISFJoVDVJBERABKIkICGJkrbKEgEREIEUEpCQpNCoapIIiIAIRElAQhIlbZUlAiIgAikkICFJoVHVJBEQARGIkoCEJEraKksEREAEUkhAQpJCo6pJIiACIhAlAQlJlLRVlgiIgAikkICEJIVGVZNEQAREIEoCEpIoaassERABEUghAQlJCo2qJomACIhAlAQkJFHSVlkiIAIikEICEpIUGlVNEgEREIEoCUhIoqStskRABEQghQQkJCk0qpokAiIgAlESkJBESVtliYAIiEAKCUhIUmhUNUkEREAEoiQgIYmStsoSAREQgRQSkJCk0KhqkgiIgAhESUBCEiVtlSUCIiACKSQgIUmhUdUkERABEYiSgIQkStoqSwREQARSSEBCkkKjqkkiIAIiECUBCUmUtFWWCIiACKSQgIQkhUZVk0RABEQgSgISkihpqywREAERSCEBCUkKjaomiYAIiECUBCQkUdJWWSIgAiKQQgISkhQaVU0SAREQgSgJSEiipK2yREAERCCFBCQkKTSqmiQCIiACURKQkERJW2WJgAiIQAoJSEhSaFQ1SQREQASiJCAhiZK2yhIBERCBFBKQkKTQqGqSCIiACERJQEISJW2VJQIiIAIpJCAhSaFR1SQREAERiJKAhCRK2ipLBERABFJIQEKSQqOqSSIgAiIQJQEJSZS0VZYIiIAIpJCAhCSFRlWTREAERCBKAhKSKGmrLBEQARFIIQEJSQqNqiaJgAiIQJQEJCRR0lZZIiACIpBCAhKSFBpVTRIBERCBKAlISKKkrbJEQAREIIUEMickKbShmiQCIiACFSUgIakofhUuAiIgAsknICFJvg3VgjoQqFevXh3u0i0iIAK5BKqqqlydheTYY491LVu2dMcff3x1vldeeaWbOnWqu/baawNpb7XVVu6mm25y66+/fo1rLr30UrfQQgu5E088cb4t9cADD7g11ljDbbLJJjXu/e2339wJJ5zgnnzySdegQQOr74033uhWXHFFN2nSJPfhhx+6/fffv+jy/PecccYZbs0113RHHHGEtef66693Tz31lGvdurWbPn160Xnmu/DVV191l1xyiRs1alRJ+ejmYAIICX8ASiIgAnUn4P0dpUJIevXq5bbccst5ROG0005zM2bMcLfeeqtr2LChGzFihDv//PPd+++/70aOHOnGjx9vwuJPc+bMMdHJl/z3fP/995bnEkss4TbbbDN39913m5h99tln9v9SkoSkFHrF3SshKY6TrhKBQgTKLiQffPCB69Gjh/v666/dCiusYJ35uuuu6zyPZJ111nG9e/d2Y8aMcU2bNrW3+7Zt25pH8vDDDzve+P/880+3+eab2xv/AgssYB7F559/bu2688473Xvvved23HFH1717d+vQhwwZ4tq0aVPd7kMOOcRRTr9+/ao/45qdd97Zbbfddm7mzJnu3HPPdV999ZVbcMEFrdwrrrjCPCM8LsRikUUWcbfddptbe+213TbbbFN9z7Rp09yqq65qdaSueFhjx451rVq1Mo9k1qxZ7qijjnKvv/66W3rppS2PjTbayOp9wQUXuNmzZ1ub8aaaNGlifC6++GK38MILW93IH48kiKMe79IISEhK46e7RQACoQjJfffd5xZddNFqor/++qvr1q2bDW3xlo4oHHTQQe6uu+5yN9xwg3v55ZerheSll15y99xzj3viiSesc95ggw2sw+/atat1/nTAq622mg0dLbfccu6ss87KKySXX365C/JI3nzzTcuvcePGbpdddnGdOnVyW2+9tdXX710MGDDAhr+oCx35kUce6Tp37ux23313N3ToUPfYY4+5e++9t8Y9Z599tgkJ9UO88HZWWmkl+wwhYUgNQbrsssvc6NGjjQllcC2/M7x2+OGHG6cOHTrYP4bOEBXEcfHFFzchCeKox7g0AhKS0vjpbhEITUiC5kiY76Dz//HHH12jRo3s7XuZZZax3+nM8TB4K99hhx2sMyUdfPDB1smutdZa7qqrrrJOl/TMM8/YGz/zD/k8kkJCwv1z5851b7/9tnvuuefMG1h22WXduHHjrJP2hrYQEurZt29fK/Off/5xTz/9tJs8ebJ5KUsuuaRd7xef2oRkvfXWM/HBCyH98ssvJg54KrRlypQpVp+ePXua4CCsiBYJ7+XRRx+14bIgjoijUt0JSEjqzk53ioBHIBSPJEhImChu1qyZCQfzCAz/ICTfffed22mnnUxILrroIhMShqVITNozfISQXH311eYdkJ5//nl36qmnmqD4hWTQoEE2/1FISBAnrqNsL9HB01F/8803NYQEgfEWDuC9NG/e3O29996OCXs8qvkVEtqB59GiRQsrGuGACR7GYYcdZp4Rw3p8hheEkDDsRmK4C29t2LBhgRwZclOqOwEJSd3Z6U4RiERIGMZhvuOUU06xCXA6RD5jEtmbI5kwYYJjaOzxxx+3zpqhrT59+thQGHMpDEutssoqNszEHAMezPLLL29zBksttZQNBbVr165aSPiZe/1pzz33tKEmxIY5kLfeesuGrCZOnGjDbHgmt9xyi8Mj8YQED2axxRazuR3PS/noo4/MQ8Aj8e6pzSNhfoS5Hyb3GRpj2A5RQxThgMhSP4bPqBPzL3hODG3xef369U28gjjqUS6NgISkNH66WwQgUFaPBNHgDRwRYMKa4Zl8k+3MI9Ax03m2b9/ehIN5Fd7k6Xj//vtvt+mmm7qbb77ZOnc6YpbZ4uHwZu+JBENA/fv3N8Fict5Lv//+uzv55JNtKAmxWnnllU2QmINg6S+T7ogXnpLfI2EZM8NMiA/eA97THXfcYeV59zBBX2iOBKFgsQELAhiGGjx4sA1zHX300e6NN96wYS4EhDYhcIgG8ym0s0uXLjZHxGdBHPUYl0ZAQlIaP90tAqEIiTCKQJIJSEiSbD3VPS4ESvZI4tIQ1UME6kJAQlIXarpHBGoSyKyQqAPRn4LfJRcNERCBuhOQkNSdne5MAQG9UKTAiGpCxQlISCpuAlWgkgQkJJWkr7LTQkBCkhZLqh11IiAhqRM23SQCNQhISPRAZJqAhCTT5lfjQyIgIQkJpLJJJgEJSTLtplrHi4CEJF72UG0iJiAhiRi4ikslAQlJKs2qRhVLQEJSLCldJwLBBCQkejoyTUBCUnfzEz/uvPPOswz+/fdfi7fEeUEkIlrnxrwrpiQifHMfMffyJQK5ctZPx44dq7++5ppr3L777mvnHfkTgWAJq3T77bfbSaNE3ubgO4K1Ev/upJNOsqjbpR5AV0y70n6NhCTtFlb7ChKQkITzgBCLjgPa/IfH1SVnIoFz5hDBWHMTcfL22muv6qMlOOaBYyEIbkpMOs4v8hJx+DiUjuCoHBBH1HCCvXJuEMFeEZOPP/7YhJCo3kqlEZCQlMZPdyecgIQkHAMGCQmBWzlXCM54DXgG/MwREhdeeKHjEDwiXnNcAkFSvTOM6Ny32GKLGpXjesTAO7uIk08JdEokcIKi+oWE84MQHg7c4wgKTjwlcTQDh+shLCSibnMiKSebKtWdgISk7ux0ZwoISEjCMWI+IeEsIbwCvAaOwN5tt93cHnvsYYfXceop0a85IZSziRiGIkp4IY9k4403tiMn/IJB7RGXZ599tsbnRNcmijblkjh9leMZ8EA40oLvSYgIng3HQSjVnYCEpO7sdGcKCEhIwjFiPiHBY+BMoTPPPNMK4aRQvA6EBQHBM+DQOE4G9VKQkHCUBN4FR0I0aNCgRqVzhYT5GsrmWAkvcdIp5yJxVMQjjzziNtlkE/uKs4U4SI7PlOpOQEJSd3a6MwUEJCThGDGfkGy77bbu888/t7N1vISAcIjdgw8+aMNc7777rp0LxBAY5wQFCQkHzHHG0BdffDFPhXOFhGErzhk65phj5rl2+PDh5n1wSB2Jg/PwmjhkTqnuBCQkdWenO1NAQEISjhHzCckBBxxgcxDe6i0OeeNoa8SEg+44hvqHH36w1VMc8MZhdUFCwnwHB+PhkWAzf8oVkt69e7vTTjvNVnHhASFknFRKmjZtmlt99dXtUDwOrEPUBg4cWH2kdzg0speLhCR7Ns9UixnO4HRMOq98SUISzuOQT0juv/9+O1WUI6YZvkJYmEDfZZddTGDoxJnvwD5//PGHnT6KkLDSCi8lN+GxcDT2SiutVFBI9ttvP0fZJDwfPBA8kebNm9uKsEmTJtkEPAlPiNVbLCFWqjsBCUnd2enOBBDgLZa3X45z5i01V1AkJOEYMZ+QVFVVmZCwl2P27Nk20c68SMOGDW3ehGO3mejmuGz2euBBXH755eYhsLqKPR/+hFfB8l+OuQ7ySJjAHz9+vDv99NOrL2HS/ZZbbrEJd4bHqAPHeZOY4GeeJjfPcKhkJxcJSXZsncmWjhgxwpaLzp0714ZFcgVFQpKcx+KTTz4xAfK8jVJrzgZFxI2J+NzhslLzztr9EpKsWTyD7WX4xJtcXWaZZRxj9YceeqjtY2CYhDdnpWQQOO6442z1VRi70fF82D+SbxgtGTTiU8tMC0l8zKCalJtA48aNbXjFSwyvsKSUJCEpN/3w8uclgIl3b2iqlJxZseUtAy4lH93rzKPj76jef//J1GuZhjSy8/jLI8mOrdXSyhCQkFSGu0qNiABzJEyo8hbLxC47mlnF402664UiIkOomFQTkJCk2rxqnLdqK1dAPDJZEBJ/xNwmTZrY6qXcyWUmsusyXDRo0CA3depUi6cVZiLmFntMWMXlpRNPPNF+ZG6jfv36810cO91ZsUVcLi80CxGMF1lkkVrz2nXXXd2jjz5a63X+C3iJYVkzu+zTniQkabdwxtuX9X0kuRFzERKWx2644YahPBnlEhJ2sDOHxaZF0k8//WRRf4mTVZd07rnnWoiWG2+80ZYAT58+3Q0YMMBEhcjBzJkVSoRlmTNnTtFF//XXX7bhcfvtt3fjxo2rNf+iM47phRKSmBpG1YqGQNo9ktyIuYWEhE6PgIoEUCQRwuSdd96xyLxs2MPrYLK7RYsWdt4Ic09+IaGzZce45y2wwAEh4/eg+4mLxSbBoUOHukaNGtku9169etmOdHbB45HQ2eNRvv/++1YmYkAAx8mTJ9vneFKIIzvW2bdCaBZ/+uyzz9xGG21kGxG5xp/YILnPPvvYpsig+rN3hVhcLVu2tECT3377rQ2X8jOCTODHNm3aWFBIdtWTJ5stESiiDuPxEIYlzUlCkmbrqm21Eki7kORGzC0kJIQoIU4VQzKkdu3aOQ6aorMk+OLEiRPNQ6CzZG0OoeCLEZIZM2YE3s9mxWHDhrkxY8Y4rqNM6kA0X4SETnq99dazzaTsB2J46pxzzrHd6CzppnNn6I79QRdccIGFOnnhhRdq2J0d8+w9YYd9buI7Nj+OHTs2UEgQQr9H0r59e9t/0qdPHxMYDsdC7BjiQ0T69+9vjLiHnfgI5VNPPVXrs5jkCyQkSbae6l4ygTQLSb6IufnmSHhjnjVrlvvyyy/N2yASAENJ7LEgWCKJ75lv4nOGibiGoaJihASvI+h+vAe8gc6dO1s5bA5cddVV3ahRo0xICKvCcBZzOF6ijoMHD7b4XCzfxUsiMjAeC9cSCNKf6NjJC9HKTZTH3hTONCnkUXlCgneDOJMfHhcJLwkPihAutIe5He+kSOpGezh3Jc1JQpJm66pttRJIs5Dki5hb2xxJ27ZtbXiIqL2vvPKKddisduvbt6+91Tdr1sw6bY6qrU1IiK9FNAG8l6D78XAI5c7xuf7kDW1x6BU/0+F7iXAmPXr0MC+HYSlEgETEXw7PyhUSwq9QRr7JcobU8EjwLHKFxKu/3yMhBD7l526IZAiRITYCVDLk5k8IHsNhnvDU+lAm8AIJSQKNpiqHRyDNQpIvYm5tQsJQEmd2MGzEfAXzJggGY/0MGxEZgNMLGQrKJySsUqJDZpiHw6sQIQQo6H7iaTH0w+FWJDp8OmQ6bM8jwSthKMtLnOeOd8GhVQjHlClTCgoJ97Zu3doEJndlGh4E3pA3R5Kv/n4hQbQIOOlFSqBgTmnkmGG8FeaY/ELGJliO9uX/aQ7DIiEJr09STgkkkGYhwRy5EXNrExI6Za9Tp2OkE73uuutsqIkJZDpaTjpkmItO3z+0hcjQwdO5EzSRYIkICZPjQfczgc/8yOjRo21ojTkSVmf550jwPDgLnkUAnJBI3ogDw13FCAkcuP+hhx6yeR28rq+++sqG6BAE5lRYYRVUf09IEGZEkjkj5kXwimCCeLAK7NNPP51HSBCVrl272qKFNCcJSZqtq7bVSiDtQpIbMRchIVihN4bvAWKIp0uXLvYrHTfh3AmxTvr555+rh4wYimIFEsuq2ZPB+R7ePhLyQDwQBIakXnvtNfueDtgbcsq9H1Fi0hqvBVvwMxPV/lVbdMIcUsXQFW/+lIuHwRBSsUJCO1hphpAwl7L00kubJ4KY8DMpqP4ICSu3WIWFWDDsx2ox6sV+FMS0Y8eOtmor1yNhcQDXsS8mzUlCkmbrqm21Eki7kIQdMbdWoLqgBgHmU1gZxtxSmpOEJM3WVdtqJZB2IQFAmBFzawWqC6oJEBSSiXzmndKeJCRpt7DaV5BAFoQkzIi5epyKJ4A3yFwSq7bSniQkabew2pd5IdEjIALlJiAhKTdh5R9rAlnwSGJtAFUuFQQkJKkwoxpRVwISkrqS030i8P8EJCR6GjJNQEKSafOr8SERkJCEBFLZJJOAhCSZdlOt40VAQhIve6g2EROQkEQMXMWlkoCEJJVmVaOKJSAhKZaUrhOBYAISEj0dmSYgIcm0+dX4kAhISEICqWySSUBCkky7qdbxIiAhiZc9VJuICUhIIgau4lJJQEKSSrOqUcUSkJAUS0rXiYDmSOYhoA5EfxYQ0HOg50AESicgj6R0hsohwQQkJAk2nqoeGwISktiYQhWpBAEJSSWoq8y0EZCQpM2ias98EZCQzBcuXSwCeQlISPRgZJoAfwBKIiACpROoqqpy9f77T1XpWSUnB72JJsdWqqkIiEAyCEhIkmEn1VIEREAEYktAQhJb06hiIiACIpAMAhKSZNhJtRQBERCB2BKQkMTWNKqYCIiACCSDgIQkGXZSLUVABEQgtgQkJLE1jSomAiIgAskgICFJhp1USxEQARGILQEJSWxNo4qJgAiIQDIISEiSYSfVUgREQARiS0BCElvTqGIiIAIikAwCEpJk2Em1FAEREIHYEpCQxNY0qpgIiIAIJIOAhCQZdlItRUAERCC2BCQksTWNKiYCIiACySAgIUmGnVRLERABEYgtAQlJbE2jiomACIhAMghISJJhJ9VSBERABGJLQEISW9OoYiIgAiKQDAISkmTYSbUUAREQgdgSkJDE1jSqmAiIOCIUIgAAIABJREFUgAgkg4CEJBl2Ui1FQAREILYEJCSxNY0qJgIiIALJICAhSYadVEsREAERiC0BCUlsTaOKiYAIiEAyCEhIkmEn1VIEREAEYktAQhJb06hiIiACIpAMAhKSZNhJtRQBERCB2BKQkMTWNKqYCIiACCSDgIQkGXZSLUVABEQgtgQkJLE1jSomAiIgAskgICFJhp1USxEQARGILQEJSWxNo4qJgAiIQDIISEiSYSfVUgREQARiS0BCElvTqGIiIAIikAwCEpJk2Em1FAEREIHYEpCQxNY0qpgIiIAIJIOAhCQZdlItRUAERCC2BCQksTWNKiYCIiACySAgIUmGnVTLkAnUq1cv5ByVnQhkk0BVVZWTkGTT9plvNULCH4CSCIhA3Ql4f0cSkroz1J0JJiAhSbDxVPXYEJCQxMYUqkglCEhIKkFdZaaNgIQkbRZVe+aLgIRkvnDpYhHIS0BCogcj0wQkJJk2vxofEgEJSUgglU0yCUhIkmk31TpeBCQk8bKHahMxAQlJxMBVXCoJSEhSaVY1qlgCEpJiSek6EQgmICHR05FpAhKSTJtfjQ+JgIQkJJDKJpkEJCTzb7fzzz/fnXfeeXbjv//+62C4wAIL2O933nmnO+igg4rOtHHjxu6HH35wiyyySNH3cOHVV1/tWrVq5Tp27Ogee+wxd8YZZ7jPP//cbbDBBu6mm25yLVu2rM6ve/fu7uabb3a33367u+SSS9wvv/zittxyS3fbbbe5pk2bupNOOsn17NnTrbHGGvNVB138/wQkJHoaMk1AQlKa+Q877DC35pprun79+uXN6K+//nKNGjUKLOSZZ55xW2+9tatfv37RFfntt9/cXnvt5Z588kk3Y8YMt+6667oHH3zQtW/f3gTu0UcfdZMnT7b8/vzzT3fssce6U0891W233XaO8pZffnl3xBFHuKWWWsrE5OOPP7b77rrrrqLroAtrEpCQ6InINAEJSWnmzyckgwYNcl9//bV777333KqrruquuOIKd8IJJ7iHH37YOvbtt9/eOm28kcUWW8x98803burUqe7oo492q6yyihs/frxbffXV3UUXXeS23XbbeSp44YUXmhgcfvjh7r777nN33HGHGzdunF33888/m0D89NNPbskll7QyEZ5FF13UPf/881YX0gMPPOBuuOEGExbS7rvv7i6++GK3/vrrlwYko3dLSDJqeDX7fwlISEp7EoKEZMCAAW7UqFHmbQwdOtSGovAg8DwQkj59+rgDDjighpAwHMV1iM4FF1zgnnjiCffCCy/MU8GNN97YBGSdddZxv//+u8PrWXrppe26Z5991ryNTz/91H5HnC677DK3xBJL2O8zZ850b7/9tnkg+++/v31PQkT++ecfd/bZZ5cGJKN3S0gyang1W0ISxjMQJCS86T/00ENWxK+//urmzp1rnfkXX3zhunbt6rp162aduN8j2WSTTdyPP/5o3sP7779vHf27775bo5p///23fY+ANGjQoMZ3eB/kyRzJHnvsYfM3hxxyiLv77rurr3v66afdKaec4r777jv3yCOPOMokjRw50g0ZMsQ+U5p/AhKS+WemO1JEQB5JacYMEpKPPvrIXX/99ZY5nfZRRx3l3njjDZtPYXKdye1cIdlnn33cBx98YPd8+OGHbt99951HSBgy23zzzU2QvMRw1jHHHOMmTZpkcx5bbLGFfYWYkQ/f5abhw4eb90E9SW+++abNpbz66qulAcno3RKSjBpezf5fAhKS0p6EICH55JNP3LXXXmuZe8NH11xzjU28M/TUtm3beYQE4ZgyZUpBIWG+Y7nlljOPBNvNmTPHbbXVVq5169Y2LOb3Unr37u1OO+00t8IKK7grr7zSvB8EjTRt2jSbh2HOZsEFF3SPP/64GzhwoA2nKc0/AQnJ/DPTHSkiICEpzZjFCAkCwSQ28yZ4CHgM/fv3d7169aoxtFWMkFDblVde2b388stupZVWciNGjLAlvS+99FKNhiBY++23n7v//vvtc1Z14YHgiTRv3tydddZZ5sEwAU9C9Fi9hdgpzT8BCcn8M9MdKSIgISnNmMUIyVtvvWXzIngRbdq0MSFh9RRigMB4q7aKFRK8Cpb/7rzzzrZ/BCHJTUy6v/LKK+7000+v/opJ91tuucUm3BkeY9UWq8RIRx55pNt7770tT6X5JyAhmX9muiNFBCQkyTMmw2ZnnnlmtbdRagvYoMjkPBPxPA9K809AQjL/zHRHighISJJpzOOOO85WX4WxG525ETyjHXfcMZkwYlBrCUkMjKAqVI6AhKRy7EspmWXCTLx7Q1Ol5MWKLW8ZcCn5ZPleCUmWra+2a9WWngERCIGAhCQEiMoiuQTkkSTXdqp5fAhISOJjC9WkAgSyIiSsnGKnOUtwu3TpYsthvYi9HvbBgwfbTvD5TYQcIcIuZYSZ2BzIxsWJEyeGki1RfklXXXVVKPkVyiRrEYUlJGV/pFRAnAlkRUj23HNPCx3SrFkzExLCqJ944omhmKZcQsJqKna6s3kxjBSVkBD7iw2PWYooLCEJ4wlVHoklkAUhmTBhgp3HwVkhpEJCQrBEltcSd4rEXgxCl0yfPt0CIp588skWEJFzPNgtzrJZv5AQmZfd4pxZQrr00kttUpzfWV6b736uIwgjGwaJy4XosUudUPCEN8EjIVYXmxiJ9Es6+OCDHWURBLJJkya2HJjVV2xERDCOP/74eZ5Jv5AQvuWdd94xL4pwK+wr4TM2ORbK77nnnjMB/vbbby0g5Y033mgBI3MjHl933XWZiigsIUlsF6iKh0EgC0JCB8qZHV6okkJCQudN6HY2CTL0xYY/3rDppFdbbTV3zjnnWMBFOn5EB4+hWCEJup+wKJSJUNEpI05sTtxmm22qhQQRZEiKcPGIBxsH2ZjIRkI6fq699957HaLJuSOIV+45KLlCgiC89tprrkWLFrYZkTArCF5QfuRJrDACO7Zr18717dvXduoTLBIh8Uc85rnKUkRhCUkYvZHySCyBLAgJw1h0kN7ZHkFzJHgfdKZrrbWWnRfCWzqdLJ04O9K//PJLi1uFx0G0XELBE0SxWCEJup8OmGEsPBwSkX9nzZplQuB5JJ07d7ZowHgiJEKfMKeDsNDxE+G3U6dO9h2xuBCnZZZZpsZzmSsk3IPwkNjlzj2ESgnKb/To0SagXjwu2kO4FerK6Yv+iMfkmaWIwhKSxHaBqngYBLIgJJzbQVBCPAJSbXMkBDps2LChO/TQQ91OO+1UfbYHw0qEIyEwInnSCdcmJFxPaBSELOh+vAqOyOUcEn8iWrAnJAgZQsNwEomJ+B49elh0YDp+/s/8D4lDrzhUqzYh4R7mjUgM/XGPJyT58mO4in9eOV5dERaEzR/xmO+yFFFYQhJGb6Q8EksgC0Ky6aab2vj/ZpttVpSQEAOLneOcvU6IdoawEAx2kdO5r7feejZnwiR4PiH5448/bP6CxGougiySX9D9BFDkUCkvZhZlcP46wuf3SDgIi5hd3ts+nT+dOEKCCDBvMz9Cwj3MceQTknz5caoi4kC8LhJ1ZmiMI34Z2vJHPOb7LEUUlpAktgtUxcMgkAUhYU6D8B/esFBtHklVVZVbccUV7QAplglzciEdK+HamWjngCrCkzD8xQ5z/9AWb/TDhg2ziXWOu+U0Q875YFgq6H46Z4auiMTL8bhMthOUsUOHDtVCgjdD3pyyyNwNnhIiRd5RCQkCiSgzxMVOeLwsog7T1nxCkqWIwhKSMHoj5ZFYAlkQknvuucc6e1ZQkRAS9pRwDoc/MVTknSGCJ/Diiy+agHiJyWnmFVjZxDAUXg7zLgiVt48E8WBSH1HgjX3XXXe1MCZ0ukH3EwmYOQY8H1ZtISoMOTG85F+1xaoub+UZ3hJnutOGqISEobIxY8bYGSd4YogKB2nRvnxCkqWIwhKSxHaBqngYBLIgJHTodPjjx4+fZyVTGAyVx7wEshZRWEKiv4JME8iCkGBgVhux2grPQan8BLIWUVhCUv5nSiXEmEBWhIR5D04EZM5CqfwEshZRWEJS/mdKJcSYQFaEJMYmUNVSQEBCkgIjqgl1JyAhqTs73SkCHgEJiZ6FTBOQkGTa/Gp8SAQkJCGBVDbJJCAhSabdVOt4EZCQxMseqk3EBCQkEQNXcakkICFJpVnVqGIJSEiKJaXrRCCYgIRET0emCUhIMm1+NT4kAhKSkEAqm2QSkJAk026qdbwISEjiZQ/VJmICEpKIgau4VBKQkKTSrGpUsQQkJMWS0nUioDmSeQioA8nGnwXhzjknnLDo+ZKeg2w8B2pleQnIIykvX+VeYQIcu/r9999b2HPCf+cKioSkwgZS8akgICFJhRnViCACI0aMcIcffribO3euHfmaKygSEj07IlA6AQlJ6QyVQ8wJcL4452mTOJyIU/04j5zjYDmkici4SiIgAnUnkGkhqTs23Zk0Ao0bN3azZ8+urnbDhg3d33//bb9LSJJmTdU3bgQyKyRxM4TqUz4C8kjKx1Y5iwAEJCR6DlJNgDkSzs7+7bff7AxxzhPn7G9v0l1zJKk2vxoXEQEJSUSgVUxlCHirtnIFxKtN0oRk1qxZ7tRTT3Vjx461IbkNN9zQnX/++a5NmzaVARyTUv/991+36667ur322steFiqdOIly2LBhbv311w+syqBBg9zUqVPdVVddVenqlly+hKRkhMogzgTSto+kW7duhvuCCy5wK6+8shs3bpw74ogj3IQJE9yqq64aZ1MUVTe8xgUWWMD+1Zb++usv16hRI7ts8uTJtohi6623ru22SL6XkESCWYWIQDwIJM0jWWuttdzVV19tb99eOuecc1zHjh3dNtts46ZPn25DeW+88YZ5KxdffHFeb+Xtt9+2N3dWs7Vt29bdeuutJkzvvfeeff7+++875pZuvPFGO+edjhoRW3rppd1bb73l1l13XXfuuec6yp42bZrr2bOnO+OMM9zdd9/tRo0aZW/aH3/8sWvVqpW7/fbbHfX+888/bfn1ww8/bD9vv/327q677nIshFhqqaXc4MGD3XHHHeeoG+WxkfTTTz91TZs2dVdeeaXbY4897LvevXu7LbbYwj3++OPu9ddfd9dcc4291SMkLVq0cHfeeafV/frrr3fvvPOO1feLL75wm2++uX3GSj1/4rNnn33W2v7tt99aOfC86KKLzOujbHizhLx///7ujjvusNsPPvhgW/lXv35998wzz7hevXrZnqV9993XPffcc2748OHmkfDziSeeaHkjdDCFo98jCeKOp3X88ce7kSNHWpnHHnusO++88+Lxx+OrhTyS2JlEFYqSQNKEhA77sccec3hanTt3ts7fn9q3b28dYZ8+fdwjjzxiHTyd1BJLLFF9GavV1l57bTdw4EC3884727V0tAjAeuutZxs32XuDKCAUCAKC07JlS7tmxx13dNttt52JFh37l19+aZ00nSjf08EyN7X77rubkCEcdPh08Ijgk08+aZ0vQkLZBxxwgAkJ11933XVuscUWc6uttpqVjXjdd9995oF98MEHVh4iQoeOoHz11VcmahMnTjSx4jM6/5tuuslEgw78tddeM4HZe++9XevWrW0oMFdI+vbta+K54IILujXXXNPaR1vo9GkLQkP9ESy8QOoPu6OOOsp16dLFrb766u62226zNtDRUwbcmzVrZvlhi3bt2jnK+fDDD42JJySXX355IPfRo0eboD311FPu559/tpcD2or94pQkJHGyhuoSOYGkCQmdJB38Pffc41544QVbNEDnxL6Yzz//3LyHb775xt7ySbyZ80a92267VbPlDZm3fbwW0k8//WQd5SqrrOL2339/98knn1RfSweMp7D44otbx0/HDbMzzzzT/fHHHyYMpObNm1t9XnzxRfMQXn31VfucoSrmqd58803bw8NbPaKGcHXt2tWEAg8IIeGtfqONNrL7EKcVVljBPBfexhGcr7/+2oRk2223dT/88IMNfyGKzBtRBu3AS0LQ7r33XhMSWDHsR7rhhhvclClT3LXXXjuPkFB3BIuEGCOme+65p/vss89MVGCLcMMHoSTdf//9xgYxIU8Ykhhyo60w4B/5PvHEE9XtghV1xlPDcyO/IO7kddhhh7mhQ4eagBYz5FejcRH9IiGJCLSKiSeBuAkJHdMll1xisHgT5W03KM2ZM8c99NBD9hbOtcyR8Ja8xhpr1LiF4RfelL1E50rn/OCDD9a47tFHHzXRefrpp6s/J78ePXrYWz9DNnTEJFa+LbTQQq5fv372Ox4EHSlCwls0nayXEAc6dTwGOl0EjLd0xACPyRMSvJ4mTZrYbQwfwaFBgwYmhoiBJyQHHXSQDX2RECqElPJ4+1900UVtKMwTknfffde8E9LNN99sXkI+IeFzvA/SVlttZWXTcSN4DBkiJCxogI83D4NIwOaYY44xj8sb8iIPPAY8GrwZvCzq5k8IC3VGSBDoIO54UdgW0Zk5c6aJzhVXXOHYBxWnJCGJkzVUl8gJxE1ICgGgU2POgbkAhmC8RKeOp8BbO4Lh7eLne+YH6LQZLvLS+PHj3VlnneVeeeUV+4j86AR502eYiaEsL22wwQbWAeNFFCskdNRe3ozx04ny+2WXXWbZ4rEwSc4iAeZnPCHBE+JNHsFADBEchtoYQuM6T0joTBEIEoJBx0rHzL3MubCizRMSv0CUKiR4JPDBkyIhxuSJkNBmPCoS3sayyy5r3hOeDt7YLbfcYt8hfAy14fV4Q1u0J4g7Q5eIKQwZ2jvwwAPNGyz0ghH5H9F/BUpIKkFdZcaGQJKEBGiMszNXwRg8b954CLy1Mi5PR88YOm/5vCkzGU0nRUfMm7qXGJJCXBjTZ9iGN3omtfFQ8DzwMrp3725DMqeffroJC518sUJCmXglDKddeumlls+kSZOs82PyecCAATZP4M11MEnN0JYnJHT+eAXUCQFjPgiBQPDonP1Cwts+b/60lXZRJsNcdPJ4QWEKCWKLYDDHwxDTTjvtZJzwkPDIhgwZYuUzL4S4I3YMCW666abGY5NNNjG7vfTSS+b1+edIgrhTHiJJ3gxXdurUyezLUGackoQkTtZQXSInkDQh+fXXX21+g8nX7777zuYmWOlE50Kig+YNn9VKzJ/QWbECKTcxLMN9zAEwr0InyRwJ9/GGTT6IDfMKTFAzlFSskNDp8xb98ssv2xAPwzJ0lHhHvM0TPJNhIoQEb4LrEEBPSKgrk+QMwbHCipVeiAIeE3MqfiFhApp60WkzdMaqJoSHeuOlhSkkzO8gEEy6kxAQhp3wDrEH9UTsWOyA98hwFcI5ZswYm3PBo0JUEHBY+1dtBXHH3rSXYUOGEvfZZx/z6PweaeR/NHkKlJDEwQqqQ8UIJE1IKgaqyILp/PEOEBOl7BCQkGTH1mppgTcpwQmHgIQkHI5Jy0VCkjSLqb6hEpBHEipOG9JhCId9JUrZISAhyY6t1VJ5JHoGRKAsBCQkZcGqTJNCQB5JUiylesaZgIQkztZR3cpOQEJSdsQqIAMEJCQZMLKaGEwgbkLCMlvCxBNPiT0Im222me2MZrNdGIlltGxsy93dXWzeBC9kB3wYibayEc/bXOjPk/0n7HwnDlXcUrlC1hP0kiXFbAJNWpKQJM1iqm+oBOIkJOxTIPgf+xGIr7TwwgvbPgs23LEbOow4SzNmzLB9HIQdqUtifwihWcJIhYSESXviaLE3pNTkDzdf17yiCFm/ww47WMSBDh061KhmGPWva7uLvU9CUiwpXZdKAnESEgIVEhKDTXZeSBPEhYB+xIEi7EZQSPJc4xQKre55JIgCQRGJZEti5zQnSZLyhS4n/ApRbNlZT/gS4mrlC/WOQLApkk13hGNBHNm4x4ZCf+K6/fbbz8K6ENJk+eWXt7DsbKBkMx/BJ4kjRgfLhkWiHhMqxAvrTl6FQrSzeowNicQgozNGmNm9zw54YogRg4sd/+wyDyNkfTGh6Kkz3iBRhHn22ExJXC+iG+OFsSufPTjE7vLXH3sGhbCnHXBj8yJxwQjoSVujTBKSKGmrrNgRiJOQAIdhDcKFsLObYH7+8O/smg4KSe4Hy9t8odDqtQkJHlBQ6HK/RxIU6h2BQGyIDIx3RSdJmA/iTuUKCdfRsSJchE5BeBAov5Cwu/2kk06yjpZ4VnS+7IJHAAuFaCc/2kKQRYJFEqYE4UGsEWfieOHxhRWyvphQ9HBg9z31wLaEVGEnPELm90jY9e6vP9F/84Ww517qj7ATycAL28KZNFEmCUmUtFVW7AjETUjwCOhYOa+CkCIEK6RT33LLLS3USFBIcn9QxtpCq9cmJHT4QaHL/UISFOodISGuFMLHGz/nfNBx586FcB3hWQj/znWECSGECtf5hQTPhkCIXrwwPBjii+GtFQrRjugQHZlEx8phUogRiUCK5EH03bBC1hcTiv6QQw4xkSfwIglPjLbigeQKib/+QSHs8bAQEELC0B7CqFQiSUgqQV1lxoZA1ELCm7EXJZb4TMTKCkoMcRGXiTddAicS4ykoJDnDQl6qLbR6kJDQCTF/wlxMUOhyv5AEhXpHIIgJRTkk4nZ58bByPRKGtryQ8P45E7+QIDbEFfMSw12Em6edhUK0EwWZxQWekJAP8cVI3hkmiG5YIeuLCUXP8B4h6f3CjxAQViZXSPz1Dwphj+giJgyP8TOHjvEiknvgWbn/4CQk5Sas/GNNIGohKQQDoeCMitxVUUTCRYDo5INCkvvzrS20ul9ImC9AHHgzZ4iEzplgh0Ghyz0hKRTqPTfAYyEh8a/aChISPBJEdZFFFrFm7rXXXjYkxKR/oRDtDH95q9PwSFj55p31QhRh8mARQzlC1gedaUJ78ahYnUXCa2MuiOCOuULir39QCHueFw7yYlECq9wYAmS1nyegUf3xSUiiIq1yYkkgTkJCh8KJhEycMsTDhClj6oQMZzkwcwJBIcn9cGsLre4JCR0r52ngLRAunvNCEBLG4oNClyMkDL/hIQWFeg9bSJgjYUk0IvD888/bnALh8xnaKhSiPVdIWCjgnSpJh84kPAJdjpD1QUJCx4+3x8IBPEDqQRRkjhVGSGgnXgVzJP76B4Wwx1NBmPBoWInHXAsvB/5DtqL4w5OQREFZZcSWQJyEBEgMZzB0w+Qpwy68qXJ8LBPvpKCQ5H7AtYVW94SECVzEgzkCVvvwdj5t2jTriIJCl+MNMJ7PWSEcpJUv1DvzK/6Q86V6JIgFBzrhaTFPwt4SjsEtxCO3I8YjIfQ64fM5n4VzWDhsirf3coSsDxISjkpGSBDw2bNnmygyv8GJh7Rr4MCB7oEHHjD7+4WkUAh75ltuvfVWewlg3xFzaRxTHGWSkERJW2XFjkDchKTcgErdkFju+uXmj8gRAJLOv5SEkJAPpzIqhU9AQhI+U+WYIAJZEhLeavF2mGvgFL8kJAlJEqyko3aTYSXVsmwEsiQkbFxjOSxzKOy/SEJi+IejbZkHKCUxx8ScEJsjlcInII8kfKbKMUEEsiQkCTKLqpowAhKShBlM1Q2XgIQkXJ7KLZsEJCTZtLta/X8EohaSckf3DTIsq5jYK8LS3rASK6B69uxpS5MrlcrRLq8tbHpkhVtYkZfDYESYl2HDhtnKrqDEHpnu3btbZISokoQkKtIqJ5YEohSSKKL7Rikkv/zyi3W0hHGpVCqnkLBnpV27drY5s5gURZReCUkxltA1IhAxgSiFJKzovpyHkS86L+gKRcP1PBKW0rIclr0KRNVlBRcb20jErjr77LMtkix7NQi8yMa5fJ/jXR1zzDHmkSCSQdFpebNnrwN7JBo1amS7r6k/KShKce5jUEy7/PewzLmUaLw8F36PZMSIEa5fv34WF4wgkOwDIRozQuaP0stCBi/Bp1u3bhbjC++AGFvsCWLzIft18OY4g4QUlD/RmQl8SfBJwuAQtfizzz4zjyTIjn6PpJBdwvxTk0cSJk3llTgCUQoJcMKI7kunky86L0MwhaLhekLSvn172wjHhkJ2e9OhESeK0CjEgqIDpvPjGjYW7rLLLnk/ZxOjJySEd8kXnRbBokPmWjYUTpgwwTYDsjuenfxBUYr9D1KhqMdBHglCUmo0Xk9IiMuF0I4bN86Et1evXlZ/NmPmRunlefILCdGNEQF2q9NuOn86em9ZM+FNEKKg/BEeYrPhiSBinFXCfhiEJMiO2Nkb2ipklzD/WCUkYdJUXokjELWQhBHdl44+X3TeQtGB+Y4Ohk6Q4IV04pw/QiK0BkES8VAYruJnElF76URZfpvvc7wLT0iCotPS+dIh0+l26tTJ8uXMDUKcELjQC55IJ0mnSceK4PhTMe3KnftBSEqNxusJyZAhQ6y+BNAkEUCSYJssTcaj8kfp9dcbj4SIBAg0zxleGVED8PJI5EEdeTEIyr9Vq1YWLwwhJhE+Z9KkSRbFOMiOBGz0hKSQXcL8Y5WQhElTeSWOQNhCEkV0Xy/MBh3szJkzLZwJ52owRFUoGi5CwnAVwyMEKvQnOii8EzwmhlL8Ca8i3+cIjyckhaLT0iETmZZDqUgM0eABcR4HXgPxp/iO8CdNmzadR0g4l6O2duUTklKj8XpCQowvRI8hKS8hwpw2ycS3P0pvrpD4Q8UwZMgwIUNkJIJk8lJA24Lyx2MjJA2BK0kcWoWHgxcZZEeu9YSkkF3C/GOVkIRJU3kljkDYQlIIQFjRfRkeyRedlyGgQtFwERJOLmRzH52flxi/Z0iMt1ziNXkRchEKQp7zBpzvczpCv0dCAEKCTZJGjhxp8wgEf6RDplNHJPxCwncIIP9nWI6TAceOHTuPkLCRsrZ21VVICkXj9XskLCognhUJzsSywiPBW/DHxKqLkOCRBOW/0UYbWRne8bsEdeTgsvPPPz/Qjsyh+D2SILuE+ccqIQmTpvJKHIEohSSs6L5e58uQC2/GDBnxhsouIcI4AAACDUlEQVQRtYWi4SIkDFsxzs/1PXr0sKixeDSIE+LCUAirlZZccknzXgjSyLBKvs/p3DwhCYpOy2mAQULCEBZv19SBIR/CujPshQj5E3WrrV11FZJC0Xg9IWHYjXkJzo9hzgOPDTEZPnz4PFF66yIkBOcMyh9vjIUGRCRgeJFgkLCg7CA7ElDTE5JCdgnzj1VCEiZN5ZU4AlEKCXDCiO7Liqqg6LxB0YH9k9JE48Uz4URCDlXiO0SIxHAZR+NSBuKBN0Bk2nyfM1zlX7XF0A1eF4nzNlgQQMTdICHhO+/AK87TQHROOeUUi4aLgPlTMe3yX88cSTFDW4Wi8fpXbSE4tI+hRE6rxNvi+9wow3UREoaigvLH60H0GXZEZLEbQs9ke5Adc1dtBdklzD9WCUmYNJVX4ghELSSJA5ThCsdxQ2JczSEhiatlVK9ICEhIIsGcuEK8EyBZoeWdFZ+4RkRYYQlJhLBVVPwISEjiZ5M41Kh169auS5cutqpMqXYCEpLaGemKFBOQkKTYuGpaZAQkJJGhVkFxJCAhiaNVVKekEZCQJM1iqm+oBCQkoeJUZhklICHJqOHV7P8lICHRkyACpROQkJTOUDkkmICEJMHGU9VjQ0BCEhtTqCKVICAhqQR1lZk2AhKStFlU7ZkvAv6w3/N1oy4WARGoQYAoAfX++0+VuIiACIiACIhAXQn8D8feCe27g3dsAAAAAElFTkSuQmCC)\n",
        "\n",
        "\n",
        "\n",
        "\n",
        "1.   Partición en Holdout\n",
        "\n",
        "*   Se divide el conjunto de datos en 2/3 para train y 1/3 para test, manteniendo la proporción de la variable objetivo (stratify).\n",
        "*   El conjunto train se usará durante la mayor parte de la práctica (para comparar modelos, probar hiperparámetros, etc.).\n",
        "*   El conjunto test se usará solo al final, para obtener la estimación real de rendimiento del modelo final (outer).\n",
        "\n",
        "\n",
        "2.   Elemento de lista\n",
        "3.   Elemento de lista\n",
        "\n"
      ],
      "metadata": {
        "id": "9aVmTnZjfdO_"
      }
    },
    {
      "cell_type": "markdown",
      "source": [
        "## Evaluación Outer\n",
        "En esta sección se describe el proceso de evaluación outer, cuyo propósito es medir el desempeño real del modelo tras su entrenamiento. Esta evaluación es fundamental, ya que permite conocer cómo responderá el modelo ante datos nuevos. Para ello, se usará el método Holdout, que divide el conjunto de datos en dos partes: una para entrenar el modelo y otra para evaluarlo."
      ],
      "metadata": {
        "id": "pMnA_EFNv3fr"
      }
    },
    {
      "cell_type": "markdown",
      "source": [
        "La división de los datos en Holdout se hará así: dos tercios (2/3) se usarán para train y un tercio (1/3) para test. Es clave mantener la proporción original de la variable objetivo (Attrition), ya que hay un desbalance entre los empleados que renuncian y los que no. Para lograrlo, se aplicará un método de estratificación en la partición."
      ],
      "metadata": {
        "id": "L6YUnxu9wXzw"
      }
    },
    {
      "cell_type": "code",
      "source": [
        "from sklearn.model_selection import train_test_split\n",
        "\n",
        "# Convertimos la variable objetivo en valores binarios: 'Yes' -> 1, 'No' -> 0\n",
        "datos_generales['Attrition'] = datos_generales['Attrition'].map({'Yes': 1, 'No': 0})\n",
        "\n",
        "# Definir las características (X) y la variable objetivo (y)\n",
        "X = datos_generales.drop(columns=['Attrition', 'EmployeeID', 'Over18', 'EmployeeCount', 'StandardHours'])  # Eliminamos columnas irrelevantes\n",
        "y = datos_generales['Attrition']\n",
        "\n",
        "# División en 2/3 entrenamiento y 1/3 test, con estratificación\n",
        "X_train, X_test, y_train, y_test = train_test_split(X, y, test_size=1/3, random_state=10, stratify=y)\n",
        "\n",
        "# Verificar la distribución de la variable objetivo en los conjuntos generados\n",
        "print(\"Distribución en Train:\\n\", y_train.value_counts(normalize=True))\n",
        "print(\"\\nDistribución en Test:\\n\", y_test.value_counts(normalize=True))\n"
      ],
      "metadata": {
        "colab": {
          "base_uri": "https://localhost:8080/"
        },
        "id": "43-IHgJ4_-rU",
        "outputId": "cd5d227e-2376-467d-b564-2504c753ca9e"
      },
      "execution_count": null,
      "outputs": [
        {
          "output_type": "stream",
          "name": "stdout",
          "text": [
            "Distribución en Train:\n",
            " Attrition\n",
            "0    0.838776\n",
            "1    0.161224\n",
            "Name: proportion, dtype: float64\n",
            "\n",
            "Distribución en Test:\n",
            " Attrition\n",
            "0    0.838776\n",
            "1    0.161224\n",
            "Name: proportion, dtype: float64\n"
          ]
        }
      ]
    },
    {
      "cell_type": "markdown",
      "source": [
        "##Definición de Métricas de Evaluación\n",
        "\n",
        "La métrica principal para evaluar el modelo será la Balanced Accuracy, útil en problemas de clasificación desbalanceada. Se obtiene como el promedio del True Positive Rate (TPR) y el True Negative Rate (TNR).\n"
      ],
      "metadata": {
        "id": "hiJSbVTBx-uu"
      }
    },
    {
      "cell_type": "markdown",
      "source": [
        "El True Positive Rate (TPR), indica la proporción de empleados que renunciaron y fueron clasificados correctamente. Se calcula como:\n",
        "\n",
        "$TPR = \\frac{TP}{TP + FN}$\n",
        "\n",
        "donde:\n",
        "\n",
        "\n",
        "*   TP: son los empleados que realmente renunciaron y el modelo los predijo correctamente.\n",
        "*   FN: son los empleados que renunciaron pero que el modelo los predijo incorrectamente, como que se quedaron.\n",
        "\n"
      ],
      "metadata": {
        "id": "4FAiWafKxCGk"
      }
    },
    {
      "cell_type": "markdown",
      "source": [
        "El True Negative Rate (TNR) mide la proporción de empleados que no renunciaron y fueron clasificados correctamente:\n",
        "\n",
        "$TPR = \\frac{TN}{TN + FP}$\n",
        "\n",
        "donde:\n",
        "\n",
        "  \n",
        "\n",
        "*     TN: empleados que no renunciaron y fueron clasificados correctamente.\n",
        "*     FP: empleados que no renunciaron pero fueron clasificados como renunciantes.\n",
        "\n",
        "\n",
        "\n",
        "\n"
      ],
      "metadata": {
        "id": "1QB6wVxDx8Te"
      }
    },
    {
      "cell_type": "markdown",
      "source": [
        "La Balanced Accuracy se obtiene con la siguiente fórmula:\n",
        "\n",
        "$BalancedAccuracy = \\frac{TPR+TNR}{2}$\n",
        "\n",
        "Esta métrica es más fiable que la Accuracy estándar en datos desbalanceados, ya que evita sesgos hacia la clase mayoritaria.\n",
        "\n",
        "Otras métricas que se calcularán incluyen:\n",
        "\n",
        "*   Accuracy, que mide la proporción total de predicciones correctas.\n",
        "*   Matriz de confusión, que detalla los aciertos y errores del modelo en ambas clases.\n",
        "\n",
        "\n"
      ],
      "metadata": {
        "id": "jr8YcQL_Ae-O"
      }
    },
    {
      "cell_type": "markdown",
      "source": [
        "Como todavia no tenemos un modelo entrenado vamos a utilizar un Dummy Classifier como base para generar resultados iniciales:"
      ],
      "metadata": {
        "id": "yo70GouhB_ya"
      }
    },
    {
      "cell_type": "code",
      "source": [
        "from sklearn.dummy import DummyClassifier\n",
        "from sklearn.metrics import accuracy_score, balanced_accuracy_score, confusion_matrix\n",
        "\n",
        "# Crear un modelo Dummy que siempre predice la clase mayoritaria\n",
        "dummy_model = DummyClassifier(strategy=\"most_frequent\")\n",
        "dummy_model.fit(X_train, y_train)\n",
        "\n",
        "# Hacer predicciones con el modelo dummy\n",
        "y_pred_dummy = dummy_model.predict(X_test)\n",
        "\n",
        "# Calcular métricas para el modelo dummy\n",
        "acc_dummy = accuracy_score(y_test, y_pred_dummy)\n",
        "balanced_acc_dummy = balanced_accuracy_score(y_test, y_pred_dummy)\n",
        "tnr_dummy = confusion_matrix(y_test, y_pred_dummy)[0, 0] / confusion_matrix(y_test, y_pred_dummy)[0].sum()\n",
        "tpr_dummy = confusion_matrix(y_test, y_pred_dummy)[1, 1] / confusion_matrix(y_test, y_pred_dummy)[1].sum()\n",
        "\n",
        "# Mostrar resultados del modelo dummy\n",
        "print(\"Dummy Classifier - Modelo Trivial\")\n",
        "print(\"Accuracy:\", acc_dummy)\n",
        "print(\"Balanced Accuracy:\", balanced_acc_dummy)\n",
        "print(\"TPR:\", tpr_dummy)\n",
        "print(\"TNR:\", tnr_dummy)\n",
        "print(\"\\nMatriz de Confusión:\\n\", confusion_matrix(y_test, y_pred_dummy))\n"
      ],
      "metadata": {
        "colab": {
          "base_uri": "https://localhost:8080/"
        },
        "id": "Ntf5osYaxkRt",
        "outputId": "2b987eb9-a289-4f6d-da32-bc45afd330eb"
      },
      "execution_count": null,
      "outputs": [
        {
          "output_type": "stream",
          "name": "stdout",
          "text": [
            "Dummy Classifier - Modelo Trivial\n",
            "Accuracy: 0.8387755102040816\n",
            "Balanced Accuracy: 0.5\n",
            "TPR: 0.0\n",
            "TNR: 1.0\n",
            "\n",
            "Matriz de Confusión:\n",
            " [[822   0]\n",
            " [158   0]]\n"
          ]
        }
      ]
    },
    {
      "cell_type": "markdown",
      "source": [
        "Este modelo sirve como una línea base mínima para comparar con modelos más avanzados más adelante."
      ],
      "metadata": {
        "id": "WJsbLf1YCOrE"
      }
    },
    {
      "cell_type": "markdown",
      "source": [
        "## Evaluación inner\n",
        "La evaluación interna (inner) se aplicará dentro del conjunto de entrenamiento (X_train, y_train) para comparar modelos y ajustar hiperparámetros.\n",
        "\n",
        "Para esto, se usará validación cruzada (Cross Validation - CV), un método que divide el conjunto de entrenamiento en varias partes, permitiendo entrenar y validar el modelo en diferentes combinaciones de datos. Así se obtiene una evaluación más confiable antes de seleccionar el modelo final.\n",
        "\n",
        "Se empleará K-Fold Stratificado (k=5), que mantiene la proporción de clases en cada partición. Su propósito será:\n",
        "\n",
        "*   Comparar modelos como KNN o Árboles de Decisión.\n",
        "*   Ajustar hiperparámetros con GridSearchCV o RandomizedSearchCV.\n",
        "\n"
      ],
      "metadata": {
        "id": "hL25xJJCCnHR"
      }
    },
    {
      "cell_type": "code",
      "source": [
        "from sklearn.model_selection import StratifiedKFold\n",
        "from sklearn.dummy import DummyClassifier\n",
        "from sklearn.metrics import balanced_accuracy_score\n",
        "\n",
        "# Convertimos la variable objetivo en valores binarios: 'Yes' -> 1, 'No' -> 0\n",
        "datos_generales['Attrition'] = datos_generales['Attrition'].map({'Yes': 1, 'No': 0})\n",
        "\n",
        "# Cambiamos los valores Nans por valores estimados para evitar borrar instancias\n",
        "# Check if mode is not empty before accessing index 0\n",
        "if not datos_generales['Attrition'].mode().empty:\n",
        "    moda_attrition = datos_generales['Attrition'].mode()[0]\n",
        "else:\n",
        "    # Handle the case when mode is empty (e.g., impute with a default value)\n",
        "    moda_attrition = 0  # or any other appropriate value\n",
        "\n",
        "datos_generales['Attrition'].fillna(moda_attrition, inplace=True)\n",
        "\n",
        "# Definir las características (X) y la variable objetivo (y)\n",
        "X = datos_generales.drop(columns=['Attrition', 'EmployeeID', 'Over18', 'EmployeeCount', 'StandardHours'])\n",
        "y = datos_generales['Attrition']\n",
        "\n",
        "# Crear un objeto StratifiedKFold con k=5\n",
        "skf = StratifiedKFold(n_splits=5, shuffle=True, random_state=495774)\n",
        "\n",
        "# Iterar sobre los folds\n",
        "for fold, (train_index, val_index) in enumerate(skf.split(X, y)):\n",
        "    print(f\"Fold {fold + 1}:\")\n",
        "\n",
        "    # Obtener los datos de entrenamiento y validación para este fold\n",
        "    X_train, X_val = X.iloc[train_index], X.iloc[val_index]\n",
        "    y_train, y_val = y.iloc[train_index], y.iloc[val_index]\n",
        "\n",
        "    # Entrenar un modelo (ejemplo con DummyClassifier)\n",
        "    model = DummyClassifier(strategy=\"most_frequent\")\n",
        "    model.fit(X_train, y_train)\n",
        "\n",
        "    # Hacer predicciones en el conjunto de validación\n",
        "    y_pred = model.predict(X_val)\n",
        "\n",
        "    # Calcular la métrica de evaluación (ejemplo con Balanced Accuracy)\n",
        "    balanced_acc = balanced_accuracy_score(y_val, y_pred)\n",
        "    print(f\"  Balanced Accuracy: {balanced_acc}\")\n",
        "    print(\"-\" * 30)"
      ],
      "metadata": {
        "id": "fCudmmY3WN6O",
        "colab": {
          "base_uri": "https://localhost:8080/",
          "height": 215
        },
        "outputId": "d4261e39-4813-4c12-efc6-06940add45c9"
      },
      "execution_count": null,
      "outputs": [
        {
          "output_type": "error",
          "ename": "NameError",
          "evalue": "name 'datos_generales' is not defined",
          "traceback": [
            "\u001b[0;31m---------------------------------------------------------------------------\u001b[0m",
            "\u001b[0;31mNameError\u001b[0m                                 Traceback (most recent call last)",
            "\u001b[0;32m<ipython-input-1-b67aa85d6560>\u001b[0m in \u001b[0;36m<cell line: 0>\u001b[0;34m()\u001b[0m\n\u001b[1;32m      4\u001b[0m \u001b[0;34m\u001b[0m\u001b[0m\n\u001b[1;32m      5\u001b[0m \u001b[0;31m# Convertimos la variable objetivo en valores binarios: 'Yes' -> 1, 'No' -> 0\u001b[0m\u001b[0;34m\u001b[0m\u001b[0;34m\u001b[0m\u001b[0m\n\u001b[0;32m----> 6\u001b[0;31m \u001b[0mdatos_generales\u001b[0m\u001b[0;34m[\u001b[0m\u001b[0;34m'Attrition'\u001b[0m\u001b[0;34m]\u001b[0m \u001b[0;34m=\u001b[0m \u001b[0mdatos_generales\u001b[0m\u001b[0;34m[\u001b[0m\u001b[0;34m'Attrition'\u001b[0m\u001b[0;34m]\u001b[0m\u001b[0;34m.\u001b[0m\u001b[0mmap\u001b[0m\u001b[0;34m(\u001b[0m\u001b[0;34m{\u001b[0m\u001b[0;34m'Yes'\u001b[0m\u001b[0;34m:\u001b[0m \u001b[0;36m1\u001b[0m\u001b[0;34m,\u001b[0m \u001b[0;34m'No'\u001b[0m\u001b[0;34m:\u001b[0m \u001b[0;36m0\u001b[0m\u001b[0;34m}\u001b[0m\u001b[0;34m)\u001b[0m\u001b[0;34m\u001b[0m\u001b[0;34m\u001b[0m\u001b[0m\n\u001b[0m\u001b[1;32m      7\u001b[0m \u001b[0;34m\u001b[0m\u001b[0m\n\u001b[1;32m      8\u001b[0m \u001b[0;31m# Cambiamos los valores Nans por valores estimados para evitar borrar instancias\u001b[0m\u001b[0;34m\u001b[0m\u001b[0;34m\u001b[0m\u001b[0m\n",
            "\u001b[0;31mNameError\u001b[0m: name 'datos_generales' is not defined"
          ]
        }
      ]
    },
    {
      "cell_type": "markdown",
      "source": [
        "# **4.Métodos básicos: KNN y TREES**\n",
        "\n"
      ],
      "metadata": {
        "id": "Eqvgl6T_Iwqp"
      }
    },
    {
      "cell_type": "code",
      "source": [
        "import pandas as pd\n",
        "from IPython.display import display\n",
        "# Suponiendo que tu dataset se llama 'datos_generales'\n",
        "categorical_columns = datos_generales.select_dtypes(include=['object', 'category']).columns.tolist()\n",
        "\n",
        "# Imprimir las columnas categóricas\n",
        "print(\"Columnas categóricas:\")\n",
        "display(categorical_columns)\n",
        "\n",
        "# Suponiendo que tu dataset se llama 'datos_generales'\n",
        "for column in datos_generales.columns:\n",
        "    unique_values = datos_generales[column].unique()\n",
        "    print(\"Valores únicos para la columna:\")\n",
        "    display(unique_values)"
      ],
      "metadata": {
        "colab": {
          "base_uri": "https://localhost:8080/",
          "height": 1000
        },
        "id": "6F869D9xOcBv",
        "outputId": "2304467e-482d-480a-c953-366c106b910a"
      },
      "execution_count": null,
      "outputs": [
        {
          "output_type": "stream",
          "name": "stdout",
          "text": [
            "Columnas categóricas:\n"
          ]
        },
        {
          "output_type": "display_data",
          "data": {
            "text/plain": [
              "['BusinessTravel',\n",
              " 'Department',\n",
              " 'EducationField',\n",
              " 'Gender',\n",
              " 'JobRole',\n",
              " 'MaritalStatus',\n",
              " 'Over18']"
            ]
          },
          "metadata": {}
        },
        {
          "output_type": "stream",
          "name": "stdout",
          "text": [
            "Valores únicos para la columna:\n"
          ]
        },
        {
          "output_type": "display_data",
          "data": {
            "text/plain": [
              "array([7.46229697, 7.48859661, 7.11654061, ..., 5.86131415, 9.02572066,\n",
              "       6.70904953])"
            ]
          },
          "metadata": {}
        },
        {
          "output_type": "stream",
          "name": "stdout",
          "text": [
            "Valores únicos para la columna:\n"
          ]
        },
        {
          "output_type": "display_data",
          "data": {
            "text/plain": [
              "array([13,  6, 16, 21, 14, 17,  7, 12,  4,  8, 19, 23, 15, 20, 10,  9, 18,\n",
              "        3,  5, 22,  2, 11,  1, 24])"
            ]
          },
          "metadata": {}
        },
        {
          "output_type": "stream",
          "name": "stdout",
          "text": [
            "Valores únicos para la columna:\n"
          ]
        },
        {
          "output_type": "display_data",
          "data": {
            "text/plain": [
              "array([3, 1, 2, 4])"
            ]
          },
          "metadata": {}
        },
        {
          "output_type": "stream",
          "name": "stdout",
          "text": [
            "Valores únicos para la columna:\n"
          ]
        },
        {
          "output_type": "display_data",
          "data": {
            "text/plain": [
              "array([3, 4])"
            ]
          },
          "metadata": {}
        },
        {
          "output_type": "stream",
          "name": "stdout",
          "text": [
            "Valores únicos para la columna:\n"
          ]
        },
        {
          "output_type": "display_data",
          "data": {
            "text/plain": [
              "array([ 3.,  1.,  4.,  2., nan])"
            ]
          },
          "metadata": {}
        },
        {
          "output_type": "stream",
          "name": "stdout",
          "text": [
            "Valores únicos para la columna:\n"
          ]
        },
        {
          "output_type": "display_data",
          "data": {
            "text/plain": [
              "array([ 3.,  4.,  1.,  2., nan])"
            ]
          },
          "metadata": {}
        },
        {
          "output_type": "stream",
          "name": "stdout",
          "text": [
            "Valores únicos para la columna:\n"
          ]
        },
        {
          "output_type": "display_data",
          "data": {
            "text/plain": [
              "array([ 3.,  4.,  2.,  1., nan])"
            ]
          },
          "metadata": {}
        },
        {
          "output_type": "stream",
          "name": "stdout",
          "text": [
            "Valores únicos para la columna:\n"
          ]
        },
        {
          "output_type": "display_data",
          "data": {
            "text/plain": [
              "array([48, 31, 36, 49, 40, 52, 27, 47, 29, 35, 37, 33, 23, 45, 26, 34, 53,\n",
              "       50, 56, 32, 46, 25, 39, 24, 20, 30, 58, 44, 28, 59, 43, 54, 21, 22,\n",
              "       51, 41, 38, 42, 57, 19, 55, 18, 60])"
            ]
          },
          "metadata": {}
        },
        {
          "output_type": "stream",
          "name": "stdout",
          "text": [
            "Valores únicos para la columna:\n"
          ]
        },
        {
          "output_type": "display_data",
          "data": {
            "text/plain": [
              "array(['Travel_Rarely', 'Travel_Frequently', 'Non-Travel'], dtype=object)"
            ]
          },
          "metadata": {}
        },
        {
          "output_type": "stream",
          "name": "stdout",
          "text": [
            "Valores únicos para la columna:\n"
          ]
        },
        {
          "output_type": "display_data",
          "data": {
            "text/plain": [
              "array(['Research & Development', 'Sales', 'Human Resources'], dtype=object)"
            ]
          },
          "metadata": {}
        },
        {
          "output_type": "stream",
          "name": "stdout",
          "text": [
            "Valores únicos para la columna:\n"
          ]
        },
        {
          "output_type": "display_data",
          "data": {
            "text/plain": [
              "array([12,  2, 14,  1, 10, 29,  3, 25,  5, 23, 20,  4,  7,  6, 27, 15, 26,\n",
              "        9, 22, 19, 13,  8, 24, 16, 28, 21, 18, 17, 11])"
            ]
          },
          "metadata": {}
        },
        {
          "output_type": "stream",
          "name": "stdout",
          "text": [
            "Valores únicos para la columna:\n"
          ]
        },
        {
          "output_type": "display_data",
          "data": {
            "text/plain": [
              "array([4, 2, 3, 5, 1])"
            ]
          },
          "metadata": {}
        },
        {
          "output_type": "stream",
          "name": "stdout",
          "text": [
            "Valores únicos para la columna:\n"
          ]
        },
        {
          "output_type": "display_data",
          "data": {
            "text/plain": [
              "array(['Medical', 'Other', 'Life Sciences', 'Technical Degree',\n",
              "       'Marketing', 'Human Resources'], dtype=object)"
            ]
          },
          "metadata": {}
        },
        {
          "output_type": "stream",
          "name": "stdout",
          "text": [
            "Valores únicos para la columna:\n"
          ]
        },
        {
          "output_type": "display_data",
          "data": {
            "text/plain": [
              "array([1])"
            ]
          },
          "metadata": {}
        },
        {
          "output_type": "stream",
          "name": "stdout",
          "text": [
            "Valores únicos para la columna:\n"
          ]
        },
        {
          "output_type": "display_data",
          "data": {
            "text/plain": [
              "array([2316, 2193, 1846, ...,  213, 1490,  510])"
            ]
          },
          "metadata": {}
        },
        {
          "output_type": "stream",
          "name": "stdout",
          "text": [
            "Valores únicos para la columna:\n"
          ]
        },
        {
          "output_type": "display_data",
          "data": {
            "text/plain": [
              "array(['Male', 'Female'], dtype=object)"
            ]
          },
          "metadata": {}
        },
        {
          "output_type": "stream",
          "name": "stdout",
          "text": [
            "Valores únicos para la columna:\n"
          ]
        },
        {
          "output_type": "display_data",
          "data": {
            "text/plain": [
              "array([1, 2, 3, 4, 5])"
            ]
          },
          "metadata": {}
        },
        {
          "output_type": "stream",
          "name": "stdout",
          "text": [
            "Valores únicos para la columna:\n"
          ]
        },
        {
          "output_type": "display_data",
          "data": {
            "text/plain": [
              "array(['Laboratory Technician', 'Manufacturing Director',\n",
              "       'Research Scientist', 'Manager', 'Sales Executive',\n",
              "       'Human Resources', 'Research Director',\n",
              "       'Healthcare Representative', 'Sales Representative'], dtype=object)"
            ]
          },
          "metadata": {}
        },
        {
          "output_type": "stream",
          "name": "stdout",
          "text": [
            "Valores únicos para la columna:\n"
          ]
        },
        {
          "output_type": "display_data",
          "data": {
            "text/plain": [
              "array(['Divorced', 'Single', 'Married'], dtype=object)"
            ]
          },
          "metadata": {}
        },
        {
          "output_type": "stream",
          "name": "stdout",
          "text": [
            "Valores únicos para la columna:\n"
          ]
        },
        {
          "output_type": "display_data",
          "data": {
            "text/plain": [
              "array([ 55620,  53960,  39290, ...,  28000,  75530, 170680])"
            ]
          },
          "metadata": {}
        },
        {
          "output_type": "stream",
          "name": "stdout",
          "text": [
            "Valores únicos para la columna:\n"
          ]
        },
        {
          "output_type": "display_data",
          "data": {
            "text/plain": [
              "array([ 8.,  7.,  0.,  1.,  3.,  4.,  5.,  9.,  2.,  6., nan])"
            ]
          },
          "metadata": {}
        },
        {
          "output_type": "stream",
          "name": "stdout",
          "text": [
            "Valores únicos para la columna:\n"
          ]
        },
        {
          "output_type": "display_data",
          "data": {
            "text/plain": [
              "array(['Y'], dtype=object)"
            ]
          },
          "metadata": {}
        },
        {
          "output_type": "stream",
          "name": "stdout",
          "text": [
            "Valores únicos para la columna:\n"
          ]
        },
        {
          "output_type": "display_data",
          "data": {
            "text/plain": [
              "array([13, 17, 24, 22, 11, 19, 12, 15, 14, 23, 20, 16, 21, 25, 18])"
            ]
          },
          "metadata": {}
        },
        {
          "output_type": "stream",
          "name": "stdout",
          "text": [
            "Valores únicos para la columna:\n"
          ]
        },
        {
          "output_type": "display_data",
          "data": {
            "text/plain": [
              "array([8])"
            ]
          },
          "metadata": {}
        },
        {
          "output_type": "stream",
          "name": "stdout",
          "text": [
            "Valores únicos para la columna:\n"
          ]
        },
        {
          "output_type": "display_data",
          "data": {
            "text/plain": [
              "array([1, 0, 3, 2])"
            ]
          },
          "metadata": {}
        },
        {
          "output_type": "stream",
          "name": "stdout",
          "text": [
            "Valores únicos para la columna:\n"
          ]
        },
        {
          "output_type": "display_data",
          "data": {
            "text/plain": [
              "array([18.,  3.,  6., 25.,  8.,  9., 16., 27., 11., 22., 10., 14.,  7.,\n",
              "        4.,  1., 17., 35., 12., 36., 19.,  5.,  2., 20., 30., 15., 13.,\n",
              "       29., 23., 24., 38., 40., 21., 32., 26., 31., nan,  0., 37., 28.,\n",
              "       34., 33.])"
            ]
          },
          "metadata": {}
        },
        {
          "output_type": "stream",
          "name": "stdout",
          "text": [
            "Valores únicos para la columna:\n"
          ]
        },
        {
          "output_type": "display_data",
          "data": {
            "text/plain": [
              "array([2, 6, 3, 1, 4, 5, 0])"
            ]
          },
          "metadata": {}
        },
        {
          "output_type": "stream",
          "name": "stdout",
          "text": [
            "Valores únicos para la columna:\n"
          ]
        },
        {
          "output_type": "display_data",
          "data": {
            "text/plain": [
              "array([ 8,  1,  5,  7,  6, 15,  3, 14,  9,  4, 17, 16,  2, 20, 11,  0, 12,\n",
              "       21, 10, 37, 23, 22, 31, 13, 19, 18, 26, 25, 29, 27, 24, 33, 36, 40,\n",
              "       32, 34])"
            ]
          },
          "metadata": {}
        },
        {
          "output_type": "stream",
          "name": "stdout",
          "text": [
            "Valores únicos para la columna:\n"
          ]
        },
        {
          "output_type": "display_data",
          "data": {
            "text/plain": [
              "array([ 7,  0,  3,  1,  5,  2,  8,  6, 11,  9,  4, 14, 13, 12, 10, 15])"
            ]
          },
          "metadata": {}
        },
        {
          "output_type": "stream",
          "name": "stdout",
          "text": [
            "Valores únicos para la columna:\n"
          ]
        },
        {
          "output_type": "display_data",
          "data": {
            "text/plain": [
              "array([ 7,  0,  3,  4, 11,  2,  8,  1, 10, 12,  5,  9,  6, 14, 17, 13, 16,\n",
              "       15])"
            ]
          },
          "metadata": {}
        },
        {
          "output_type": "stream",
          "name": "stdout",
          "text": [
            "Valores únicos para la columna:\n"
          ]
        },
        {
          "output_type": "display_data",
          "data": {
            "text/plain": [
              "array([0.])"
            ]
          },
          "metadata": {}
        }
      ]
    },
    {
      "cell_type": "code",
      "source": [
        "import pandas as pd\n",
        "from sklearn.model_selection import GridSearchCV, StratifiedKFold\n",
        "from sklearn.pipeline import Pipeline\n",
        "from sklearn.impute import SimpleImputer\n",
        "from sklearn.preprocessing import OneHotEncoder\n",
        "from sklearn.neighbors import KNeighborsClassifier\n",
        "from sklearn.metrics import balanced_accuracy_score\n",
        "from sklearn.compose import ColumnTransformer\n",
        "\n",
        "# Definir las características (X) y la variable objetivo (y)\n",
        "X = datos_generales.drop(columns=['Attrition', 'EmployeeID', 'Over18', 'EmployeeCount', 'StandardHours'])\n",
        "y = datos_generales['Attrition']\n",
        "\n",
        "# Definir las columnas categóricas\n",
        "categorical_features = ['Department', 'JobRole', 'EducationField', 'Gender', 'MaritalStatus', 'BusinessTravel']\n",
        "\n",
        "# Reemplazar valores categóricos con valores numéricos usando replace\n",
        "for feature in categorical_features:\n",
        "    unique_values = X[feature].unique()\n",
        "    value_mapping = {value: i for i, value in enumerate(unique_values)}\n",
        "    X[feature] = X[feature].replace(value_mapping)\n",
        "\n",
        "# Crear el ColumnTransformer\n",
        "preprocessor = ColumnTransformer(\n",
        "    transformers=[\n",
        "        ('num', SimpleImputer(strategy='mean'), X.select_dtypes(include=['int64', 'float64']).columns.tolist()),\n",
        "        ('cat', OneHotEncoder(sparse_output=False, handle_unknown='ignore'), categorical_features)])\n",
        "\n",
        "# Crear el pipeline con el preprocesamiento y el modelo KNN\n",
        "pipeline = Pipeline([\n",
        "    ('preprocessor', preprocessor),\n",
        "    ('knn', KNeighborsClassifier())\n",
        "])\n",
        "\n",
        "# Definir los parámetros para GridSearchCV\n",
        "param_grid = {\n",
        "    'preprocessor__num__strategy': ['mean', 'median'],\n",
        "    'knn__n_neighbors': [3, 5, 7, 9],\n",
        "    'knn__weights': ['uniform', 'distance']\n",
        "}\n",
        "\n",
        "# Crear un objeto StratifiedKFold para la validación cruzada\n",
        "skf = StratifiedKFold(n_splits=5, shuffle=True, random_state=495774)\n",
        "\n",
        "# Crear un objeto GridSearchCV para encontrar la mejor combinación de parámetros\n",
        "grid_search = GridSearchCV(pipeline, param_grid, scoring='balanced_accuracy', cv=skf, verbose=1, n_jobs=-1)\n",
        "\n",
        "# Ajustar el GridSearchCV a los datos de entrenamiento\n",
        "grid_search.fit(X_train, y_train)\n",
        "\n",
        "# Imprimir los mejores resultados\n",
        "print(\"Mejores parámetros:\", grid_search.best_params_)\n",
        "print(\"Mejor puntuación (Balanced Accuracy):\", grid_search.best_score_)\n",
        "print(\"Mejor estimador:\", grid_search.best_estimator_)"
      ],
      "metadata": {
        "colab": {
          "base_uri": "https://localhost:8080/",
          "height": 1000
        },
        "id": "4Y9Dwy7SLS0F",
        "outputId": "005ae453-127e-4b48-8cb2-dea4cb04a13b"
      },
      "execution_count": null,
      "outputs": [
        {
          "output_type": "stream",
          "name": "stdout",
          "text": [
            "Fitting 5 folds for each of 16 candidates, totalling 80 fits\n"
          ]
        },
        {
          "output_type": "stream",
          "name": "stderr",
          "text": [
            "<ipython-input-17-a7350a3d200e>:21: FutureWarning: Downcasting behavior in `replace` is deprecated and will be removed in a future version. To retain the old behavior, explicitly call `result.infer_objects(copy=False)`. To opt-in to the future behavior, set `pd.set_option('future.no_silent_downcasting', True)`\n",
            "  X[feature] = X[feature].replace(value_mapping)\n"
          ]
        },
        {
          "output_type": "error",
          "ename": "ValueError",
          "evalue": "\nAll the 80 fits failed.\nIt is very likely that your model is misconfigured.\nYou can try to debug the error by setting error_score='raise'.\n\nBelow are more details about the failures:\n--------------------------------------------------------------------------------\n40 fits failed with the following error:\nTraceback (most recent call last):\n  File \"/usr/local/lib/python3.11/dist-packages/sklearn/model_selection/_validation.py\", line 866, in _fit_and_score\n    estimator.fit(X_train, y_train, **fit_params)\n  File \"/usr/local/lib/python3.11/dist-packages/sklearn/base.py\", line 1389, in wrapper\n    return fit_method(estimator, *args, **kwargs)\n           ^^^^^^^^^^^^^^^^^^^^^^^^^^^^^^^^^^^^^^\n  File \"/usr/local/lib/python3.11/dist-packages/sklearn/pipeline.py\", line 654, in fit\n    Xt = self._fit(X, y, routed_params, raw_params=params)\n         ^^^^^^^^^^^^^^^^^^^^^^^^^^^^^^^^^^^^^^^^^^^^^^^^^\n  File \"/usr/local/lib/python3.11/dist-packages/sklearn/pipeline.py\", line 588, in _fit\n    X, fitted_transformer = fit_transform_one_cached(\n                            ^^^^^^^^^^^^^^^^^^^^^^^^^\n  File \"/usr/local/lib/python3.11/dist-packages/joblib/memory.py\", line 312, in __call__\n    return self.func(*args, **kwargs)\n           ^^^^^^^^^^^^^^^^^^^^^^^^^^\n  File \"/usr/local/lib/python3.11/dist-packages/sklearn/pipeline.py\", line 1551, in _fit_transform_one\n    res = transformer.fit_transform(X, y, **params.get(\"fit_transform\", {}))\n          ^^^^^^^^^^^^^^^^^^^^^^^^^^^^^^^^^^^^^^^^^^^^^^^^^^^^^^^^^^^^^^^^^^\n  File \"/usr/local/lib/python3.11/dist-packages/sklearn/utils/_set_output.py\", line 319, in wrapped\n    data_to_wrap = f(self, X, *args, **kwargs)\n                   ^^^^^^^^^^^^^^^^^^^^^^^^^^^\n  File \"/usr/local/lib/python3.11/dist-packages/sklearn/base.py\", line 1389, in wrapper\n    return fit_method(estimator, *args, **kwargs)\n           ^^^^^^^^^^^^^^^^^^^^^^^^^^^^^^^^^^^^^^\n  File \"/usr/local/lib/python3.11/dist-packages/sklearn/compose/_column_transformer.py\", line 1001, in fit_transform\n    result = self._call_func_on_transformers(\n             ^^^^^^^^^^^^^^^^^^^^^^^^^^^^^^^^\n  File \"/usr/local/lib/python3.11/dist-packages/sklearn/compose/_column_transformer.py\", line 910, in _call_func_on_transformers\n    return Parallel(n_jobs=self.n_jobs)(jobs)\n           ^^^^^^^^^^^^^^^^^^^^^^^^^^^^^^^^^^\n  File \"/usr/local/lib/python3.11/dist-packages/sklearn/utils/parallel.py\", line 77, in __call__\n    return super().__call__(iterable_with_config)\n           ^^^^^^^^^^^^^^^^^^^^^^^^^^^^^^^^^^^^^^\n  File \"/usr/local/lib/python3.11/dist-packages/joblib/parallel.py\", line 1918, in __call__\n    return output if self.return_generator else list(output)\n                                                ^^^^^^^^^^^^\n  File \"/usr/local/lib/python3.11/dist-packages/joblib/parallel.py\", line 1847, in _get_sequential_output\n    res = func(*args, **kwargs)\n          ^^^^^^^^^^^^^^^^^^^^^\n  File \"/usr/local/lib/python3.11/dist-packages/sklearn/utils/parallel.py\", line 139, in __call__\n    return self.function(*args, **kwargs)\n           ^^^^^^^^^^^^^^^^^^^^^^^^^^^^^^\n  File \"/usr/local/lib/python3.11/dist-packages/sklearn/pipeline.py\", line 1551, in _fit_transform_one\n    res = transformer.fit_transform(X, y, **params.get(\"fit_transform\", {}))\n          ^^^^^^^^^^^^^^^^^^^^^^^^^^^^^^^^^^^^^^^^^^^^^^^^^^^^^^^^^^^^^^^^^^\n  File \"/usr/local/lib/python3.11/dist-packages/sklearn/utils/_set_output.py\", line 319, in wrapped\n    data_to_wrap = f(self, X, *args, **kwargs)\n                   ^^^^^^^^^^^^^^^^^^^^^^^^^^^\n  File \"/usr/local/lib/python3.11/dist-packages/sklearn/base.py\", line 921, in fit_transform\n    return self.fit(X, y, **fit_params).transform(X)\n           ^^^^^^^^^^^^^^^^^^^^^^^^^^^^\n  File \"/usr/local/lib/python3.11/dist-packages/sklearn/base.py\", line 1389, in wrapper\n    return fit_method(estimator, *args, **kwargs)\n           ^^^^^^^^^^^^^^^^^^^^^^^^^^^^^^^^^^^^^^\n  File \"/usr/local/lib/python3.11/dist-packages/sklearn/impute/_base.py\", line 434, in fit\n    X = self._validate_input(X, in_fit=True)\n        ^^^^^^^^^^^^^^^^^^^^^^^^^^^^^^^^^^^^\n  File \"/usr/local/lib/python3.11/dist-packages/sklearn/impute/_base.py\", line 361, in _validate_input\n    raise new_ve from None\nValueError: Cannot use mean strategy with non-numeric data:\ncould not convert string to float: 'Travel_Rarely'\n\n--------------------------------------------------------------------------------\n40 fits failed with the following error:\nTraceback (most recent call last):\n  File \"/usr/local/lib/python3.11/dist-packages/sklearn/model_selection/_validation.py\", line 866, in _fit_and_score\n    estimator.fit(X_train, y_train, **fit_params)\n  File \"/usr/local/lib/python3.11/dist-packages/sklearn/base.py\", line 1389, in wrapper\n    return fit_method(estimator, *args, **kwargs)\n           ^^^^^^^^^^^^^^^^^^^^^^^^^^^^^^^^^^^^^^\n  File \"/usr/local/lib/python3.11/dist-packages/sklearn/pipeline.py\", line 654, in fit\n    Xt = self._fit(X, y, routed_params, raw_params=params)\n         ^^^^^^^^^^^^^^^^^^^^^^^^^^^^^^^^^^^^^^^^^^^^^^^^^\n  File \"/usr/local/lib/python3.11/dist-packages/sklearn/pipeline.py\", line 588, in _fit\n    X, fitted_transformer = fit_transform_one_cached(\n                            ^^^^^^^^^^^^^^^^^^^^^^^^^\n  File \"/usr/local/lib/python3.11/dist-packages/joblib/memory.py\", line 312, in __call__\n    return self.func(*args, **kwargs)\n           ^^^^^^^^^^^^^^^^^^^^^^^^^^\n  File \"/usr/local/lib/python3.11/dist-packages/sklearn/pipeline.py\", line 1551, in _fit_transform_one\n    res = transformer.fit_transform(X, y, **params.get(\"fit_transform\", {}))\n          ^^^^^^^^^^^^^^^^^^^^^^^^^^^^^^^^^^^^^^^^^^^^^^^^^^^^^^^^^^^^^^^^^^\n  File \"/usr/local/lib/python3.11/dist-packages/sklearn/utils/_set_output.py\", line 319, in wrapped\n    data_to_wrap = f(self, X, *args, **kwargs)\n                   ^^^^^^^^^^^^^^^^^^^^^^^^^^^\n  File \"/usr/local/lib/python3.11/dist-packages/sklearn/base.py\", line 1389, in wrapper\n    return fit_method(estimator, *args, **kwargs)\n           ^^^^^^^^^^^^^^^^^^^^^^^^^^^^^^^^^^^^^^\n  File \"/usr/local/lib/python3.11/dist-packages/sklearn/compose/_column_transformer.py\", line 1001, in fit_transform\n    result = self._call_func_on_transformers(\n             ^^^^^^^^^^^^^^^^^^^^^^^^^^^^^^^^\n  File \"/usr/local/lib/python3.11/dist-packages/sklearn/compose/_column_transformer.py\", line 910, in _call_func_on_transformers\n    return Parallel(n_jobs=self.n_jobs)(jobs)\n           ^^^^^^^^^^^^^^^^^^^^^^^^^^^^^^^^^^\n  File \"/usr/local/lib/python3.11/dist-packages/sklearn/utils/parallel.py\", line 77, in __call__\n    return super().__call__(iterable_with_config)\n           ^^^^^^^^^^^^^^^^^^^^^^^^^^^^^^^^^^^^^^\n  File \"/usr/local/lib/python3.11/dist-packages/joblib/parallel.py\", line 1918, in __call__\n    return output if self.return_generator else list(output)\n                                                ^^^^^^^^^^^^\n  File \"/usr/local/lib/python3.11/dist-packages/joblib/parallel.py\", line 1847, in _get_sequential_output\n    res = func(*args, **kwargs)\n          ^^^^^^^^^^^^^^^^^^^^^\n  File \"/usr/local/lib/python3.11/dist-packages/sklearn/utils/parallel.py\", line 139, in __call__\n    return self.function(*args, **kwargs)\n           ^^^^^^^^^^^^^^^^^^^^^^^^^^^^^^\n  File \"/usr/local/lib/python3.11/dist-packages/sklearn/pipeline.py\", line 1551, in _fit_transform_one\n    res = transformer.fit_transform(X, y, **params.get(\"fit_transform\", {}))\n          ^^^^^^^^^^^^^^^^^^^^^^^^^^^^^^^^^^^^^^^^^^^^^^^^^^^^^^^^^^^^^^^^^^\n  File \"/usr/local/lib/python3.11/dist-packages/sklearn/utils/_set_output.py\", line 319, in wrapped\n    data_to_wrap = f(self, X, *args, **kwargs)\n                   ^^^^^^^^^^^^^^^^^^^^^^^^^^^\n  File \"/usr/local/lib/python3.11/dist-packages/sklearn/base.py\", line 921, in fit_transform\n    return self.fit(X, y, **fit_params).transform(X)\n           ^^^^^^^^^^^^^^^^^^^^^^^^^^^^\n  File \"/usr/local/lib/python3.11/dist-packages/sklearn/base.py\", line 1389, in wrapper\n    return fit_method(estimator, *args, **kwargs)\n           ^^^^^^^^^^^^^^^^^^^^^^^^^^^^^^^^^^^^^^\n  File \"/usr/local/lib/python3.11/dist-packages/sklearn/impute/_base.py\", line 434, in fit\n    X = self._validate_input(X, in_fit=True)\n        ^^^^^^^^^^^^^^^^^^^^^^^^^^^^^^^^^^^^\n  File \"/usr/local/lib/python3.11/dist-packages/sklearn/impute/_base.py\", line 361, in _validate_input\n    raise new_ve from None\nValueError: Cannot use median strategy with non-numeric data:\ncould not convert string to float: 'Travel_Rarely'\n",
          "traceback": [
            "\u001b[0;31m---------------------------------------------------------------------------\u001b[0m",
            "\u001b[0;31mValueError\u001b[0m                                Traceback (most recent call last)",
            "\u001b[0;32m<ipython-input-17-a7350a3d200e>\u001b[0m in \u001b[0;36m<cell line: 0>\u001b[0;34m()\u001b[0m\n\u001b[1;32m     47\u001b[0m \u001b[0;34m\u001b[0m\u001b[0m\n\u001b[1;32m     48\u001b[0m \u001b[0;31m# Ajustar el GridSearchCV a los datos de entrenamiento\u001b[0m\u001b[0;34m\u001b[0m\u001b[0;34m\u001b[0m\u001b[0m\n\u001b[0;32m---> 49\u001b[0;31m \u001b[0mgrid_search\u001b[0m\u001b[0;34m.\u001b[0m\u001b[0mfit\u001b[0m\u001b[0;34m(\u001b[0m\u001b[0mX_train\u001b[0m\u001b[0;34m,\u001b[0m \u001b[0my_train\u001b[0m\u001b[0;34m)\u001b[0m\u001b[0;34m\u001b[0m\u001b[0;34m\u001b[0m\u001b[0m\n\u001b[0m\u001b[1;32m     50\u001b[0m \u001b[0;34m\u001b[0m\u001b[0m\n\u001b[1;32m     51\u001b[0m \u001b[0;31m# Imprimir los mejores resultados\u001b[0m\u001b[0;34m\u001b[0m\u001b[0;34m\u001b[0m\u001b[0m\n",
            "\u001b[0;32m/usr/local/lib/python3.11/dist-packages/sklearn/base.py\u001b[0m in \u001b[0;36mwrapper\u001b[0;34m(estimator, *args, **kwargs)\u001b[0m\n\u001b[1;32m   1387\u001b[0m                 )\n\u001b[1;32m   1388\u001b[0m             ):\n\u001b[0;32m-> 1389\u001b[0;31m                 \u001b[0;32mreturn\u001b[0m \u001b[0mfit_method\u001b[0m\u001b[0;34m(\u001b[0m\u001b[0mestimator\u001b[0m\u001b[0;34m,\u001b[0m \u001b[0;34m*\u001b[0m\u001b[0margs\u001b[0m\u001b[0;34m,\u001b[0m \u001b[0;34m**\u001b[0m\u001b[0mkwargs\u001b[0m\u001b[0;34m)\u001b[0m\u001b[0;34m\u001b[0m\u001b[0;34m\u001b[0m\u001b[0m\n\u001b[0m\u001b[1;32m   1390\u001b[0m \u001b[0;34m\u001b[0m\u001b[0m\n\u001b[1;32m   1391\u001b[0m         \u001b[0;32mreturn\u001b[0m \u001b[0mwrapper\u001b[0m\u001b[0;34m\u001b[0m\u001b[0;34m\u001b[0m\u001b[0m\n",
            "\u001b[0;32m/usr/local/lib/python3.11/dist-packages/sklearn/model_selection/_search.py\u001b[0m in \u001b[0;36mfit\u001b[0;34m(self, X, y, **params)\u001b[0m\n\u001b[1;32m   1022\u001b[0m                 \u001b[0;32mreturn\u001b[0m \u001b[0mresults\u001b[0m\u001b[0;34m\u001b[0m\u001b[0;34m\u001b[0m\u001b[0m\n\u001b[1;32m   1023\u001b[0m \u001b[0;34m\u001b[0m\u001b[0m\n\u001b[0;32m-> 1024\u001b[0;31m             \u001b[0mself\u001b[0m\u001b[0;34m.\u001b[0m\u001b[0m_run_search\u001b[0m\u001b[0;34m(\u001b[0m\u001b[0mevaluate_candidates\u001b[0m\u001b[0;34m)\u001b[0m\u001b[0;34m\u001b[0m\u001b[0;34m\u001b[0m\u001b[0m\n\u001b[0m\u001b[1;32m   1025\u001b[0m \u001b[0;34m\u001b[0m\u001b[0m\n\u001b[1;32m   1026\u001b[0m             \u001b[0;31m# multimetric is determined here because in the case of a callable\u001b[0m\u001b[0;34m\u001b[0m\u001b[0;34m\u001b[0m\u001b[0m\n",
            "\u001b[0;32m/usr/local/lib/python3.11/dist-packages/sklearn/model_selection/_search.py\u001b[0m in \u001b[0;36m_run_search\u001b[0;34m(self, evaluate_candidates)\u001b[0m\n\u001b[1;32m   1569\u001b[0m     \u001b[0;32mdef\u001b[0m \u001b[0m_run_search\u001b[0m\u001b[0;34m(\u001b[0m\u001b[0mself\u001b[0m\u001b[0;34m,\u001b[0m \u001b[0mevaluate_candidates\u001b[0m\u001b[0;34m)\u001b[0m\u001b[0;34m:\u001b[0m\u001b[0;34m\u001b[0m\u001b[0;34m\u001b[0m\u001b[0m\n\u001b[1;32m   1570\u001b[0m         \u001b[0;34m\"\"\"Search all candidates in param_grid\"\"\"\u001b[0m\u001b[0;34m\u001b[0m\u001b[0;34m\u001b[0m\u001b[0m\n\u001b[0;32m-> 1571\u001b[0;31m         \u001b[0mevaluate_candidates\u001b[0m\u001b[0;34m(\u001b[0m\u001b[0mParameterGrid\u001b[0m\u001b[0;34m(\u001b[0m\u001b[0mself\u001b[0m\u001b[0;34m.\u001b[0m\u001b[0mparam_grid\u001b[0m\u001b[0;34m)\u001b[0m\u001b[0;34m)\u001b[0m\u001b[0;34m\u001b[0m\u001b[0;34m\u001b[0m\u001b[0m\n\u001b[0m\u001b[1;32m   1572\u001b[0m \u001b[0;34m\u001b[0m\u001b[0m\n\u001b[1;32m   1573\u001b[0m \u001b[0;34m\u001b[0m\u001b[0m\n",
            "\u001b[0;32m/usr/local/lib/python3.11/dist-packages/sklearn/model_selection/_search.py\u001b[0m in \u001b[0;36mevaluate_candidates\u001b[0;34m(candidate_params, cv, more_results)\u001b[0m\n\u001b[1;32m    999\u001b[0m                     )\n\u001b[1;32m   1000\u001b[0m \u001b[0;34m\u001b[0m\u001b[0m\n\u001b[0;32m-> 1001\u001b[0;31m                 \u001b[0m_warn_or_raise_about_fit_failures\u001b[0m\u001b[0;34m(\u001b[0m\u001b[0mout\u001b[0m\u001b[0;34m,\u001b[0m \u001b[0mself\u001b[0m\u001b[0;34m.\u001b[0m\u001b[0merror_score\u001b[0m\u001b[0;34m)\u001b[0m\u001b[0;34m\u001b[0m\u001b[0;34m\u001b[0m\u001b[0m\n\u001b[0m\u001b[1;32m   1002\u001b[0m \u001b[0;34m\u001b[0m\u001b[0m\n\u001b[1;32m   1003\u001b[0m                 \u001b[0;31m# For callable self.scoring, the return type is only know after\u001b[0m\u001b[0;34m\u001b[0m\u001b[0;34m\u001b[0m\u001b[0m\n",
            "\u001b[0;32m/usr/local/lib/python3.11/dist-packages/sklearn/model_selection/_validation.py\u001b[0m in \u001b[0;36m_warn_or_raise_about_fit_failures\u001b[0;34m(results, error_score)\u001b[0m\n\u001b[1;32m    515\u001b[0m                 \u001b[0;34mf\"Below are more details about the failures:\\n{fit_errors_summary}\"\u001b[0m\u001b[0;34m\u001b[0m\u001b[0;34m\u001b[0m\u001b[0m\n\u001b[1;32m    516\u001b[0m             )\n\u001b[0;32m--> 517\u001b[0;31m             \u001b[0;32mraise\u001b[0m \u001b[0mValueError\u001b[0m\u001b[0;34m(\u001b[0m\u001b[0mall_fits_failed_message\u001b[0m\u001b[0;34m)\u001b[0m\u001b[0;34m\u001b[0m\u001b[0;34m\u001b[0m\u001b[0m\n\u001b[0m\u001b[1;32m    518\u001b[0m \u001b[0;34m\u001b[0m\u001b[0m\n\u001b[1;32m    519\u001b[0m         \u001b[0;32melse\u001b[0m\u001b[0;34m:\u001b[0m\u001b[0;34m\u001b[0m\u001b[0;34m\u001b[0m\u001b[0m\n",
            "\u001b[0;31mValueError\u001b[0m: \nAll the 80 fits failed.\nIt is very likely that your model is misconfigured.\nYou can try to debug the error by setting error_score='raise'.\n\nBelow are more details about the failures:\n--------------------------------------------------------------------------------\n40 fits failed with the following error:\nTraceback (most recent call last):\n  File \"/usr/local/lib/python3.11/dist-packages/sklearn/model_selection/_validation.py\", line 866, in _fit_and_score\n    estimator.fit(X_train, y_train, **fit_params)\n  File \"/usr/local/lib/python3.11/dist-packages/sklearn/base.py\", line 1389, in wrapper\n    return fit_method(estimator, *args, **kwargs)\n           ^^^^^^^^^^^^^^^^^^^^^^^^^^^^^^^^^^^^^^\n  File \"/usr/local/lib/python3.11/dist-packages/sklearn/pipeline.py\", line 654, in fit\n    Xt = self._fit(X, y, routed_params, raw_params=params)\n         ^^^^^^^^^^^^^^^^^^^^^^^^^^^^^^^^^^^^^^^^^^^^^^^^^\n  File \"/usr/local/lib/python3.11/dist-packages/sklearn/pipeline.py\", line 588, in _fit\n    X, fitted_transformer = fit_transform_one_cached(\n                            ^^^^^^^^^^^^^^^^^^^^^^^^^\n  File \"/usr/local/lib/python3.11/dist-packages/joblib/memory.py\", line 312, in __call__\n    return self.func(*args, **kwargs)\n           ^^^^^^^^^^^^^^^^^^^^^^^^^^\n  File \"/usr/local/lib/python3.11/dist-packages/sklearn/pipeline.py\", line 1551, in _fit_transform_one\n    res = transformer.fit_transform(X, y, **params.get(\"fit_transform\", {}))\n          ^^^^^^^^^^^^^^^^^^^^^^^^^^^^^^^^^^^^^^^^^^^^^^^^^^^^^^^^^^^^^^^^^^\n  File \"/usr/local/lib/python3.11/dist-packages/sklearn/utils/_set_output.py\", line 319, in wrapped\n    data_to_wrap = f(self, X, *args, **kwargs)\n                   ^^^^^^^^^^^^^^^^^^^^^^^^^^^\n  File \"/usr/local/lib/python3.11/dist-packages/sklearn/base.py\", line 1389, in wrapper\n    return fit_method(estimator, *args, **kwargs)\n           ^^^^^^^^^^^^^^^^^^^^^^^^^^^^^^^^^^^^^^\n  File \"/usr/local/lib/python3.11/dist-packages/sklearn/compose/_column_transformer.py\", line 1001, in fit_transform\n    result = self._call_func_on_transformers(\n             ^^^^^^^^^^^^^^^^^^^^^^^^^^^^^^^^\n  File \"/usr/local/lib/python3.11/dist-packages/sklearn/compose/_column_transformer.py\", line 910, in _call_func_on_transformers\n    return Parallel(n_jobs=self.n_jobs)(jobs)\n           ^^^^^^^^^^^^^^^^^^^^^^^^^^^^^^^^^^\n  File \"/usr/local/lib/python3.11/dist-packages/sklearn/utils/parallel.py\", line 77, in __call__\n    return super().__call__(iterable_with_config)\n           ^^^^^^^^^^^^^^^^^^^^^^^^^^^^^^^^^^^^^^\n  File \"/usr/local/lib/python3.11/dist-packages/joblib/parallel.py\", line 1918, in __call__\n    return output if self.return_generator else list(output)\n                                                ^^^^^^^^^^^^\n  File \"/usr/local/lib/python3.11/dist-packages/joblib/parallel.py\", line 1847, in _get_sequential_output\n    res = func(*args, **kwargs)\n          ^^^^^^^^^^^^^^^^^^^^^\n  File \"/usr/local/lib/python3.11/dist-packages/sklearn/utils/parallel.py\", line 139, in __call__\n    return self.function(*args, **kwargs)\n           ^^^^^^^^^^^^^^^^^^^^^^^^^^^^^^\n  File \"/usr/local/lib/python3.11/dist-packages/sklearn/pipeline.py\", line 1551, in _fit_transform_one\n    res = transformer.fit_transform(X, y, **params.get(\"fit_transform\", {}))\n          ^^^^^^^^^^^^^^^^^^^^^^^^^^^^^^^^^^^^^^^^^^^^^^^^^^^^^^^^^^^^^^^^^^\n  File \"/usr/local/lib/python3.11/dist-packages/sklearn/utils/_set_output.py\", line 319, in wrapped\n    data_to_wrap = f(self, X, *args, **kwargs)\n                   ^^^^^^^^^^^^^^^^^^^^^^^^^^^\n  File \"/usr/local/lib/python3.11/dist-packages/sklearn/base.py\", line 921, in fit_transform\n    return self.fit(X, y, **fit_params).transform(X)\n           ^^^^^^^^^^^^^^^^^^^^^^^^^^^^\n  File \"/usr/local/lib/python3.11/dist-packages/sklearn/base.py\", line 1389, in wrapper\n    return fit_method(estimator, *args, **kwargs)\n           ^^^^^^^^^^^^^^^^^^^^^^^^^^^^^^^^^^^^^^\n  File \"/usr/local/lib/python3.11/dist-packages/sklearn/impute/_base.py\", line 434, in fit\n    X = self._validate_input(X, in_fit=True)\n        ^^^^^^^^^^^^^^^^^^^^^^^^^^^^^^^^^^^^\n  File \"/usr/local/lib/python3.11/dist-packages/sklearn/impute/_base.py\", line 361, in _validate_input\n    raise new_ve from None\nValueError: Cannot use mean strategy with non-numeric data:\ncould not convert string to float: 'Travel_Rarely'\n\n--------------------------------------------------------------------------------\n40 fits failed with the following error:\nTraceback (most recent call last):\n  File \"/usr/local/lib/python3.11/dist-packages/sklearn/model_selection/_validation.py\", line 866, in _fit_and_score\n    estimator.fit(X_train, y_train, **fit_params)\n  File \"/usr/local/lib/python3.11/dist-packages/sklearn/base.py\", line 1389, in wrapper\n    return fit_method(estimator, *args, **kwargs)\n           ^^^^^^^^^^^^^^^^^^^^^^^^^^^^^^^^^^^^^^\n  File \"/usr/local/lib/python3.11/dist-packages/sklearn/pipeline.py\", line 654, in fit\n    Xt = self._fit(X, y, routed_params, raw_params=params)\n         ^^^^^^^^^^^^^^^^^^^^^^^^^^^^^^^^^^^^^^^^^^^^^^^^^\n  File \"/usr/local/lib/python3.11/dist-packages/sklearn/pipeline.py\", line 588, in _fit\n    X, fitted_transformer = fit_transform_one_cached(\n                            ^^^^^^^^^^^^^^^^^^^^^^^^^\n  File \"/usr/local/lib/python3.11/dist-packages/joblib/memory.py\", line 312, in __call__\n    return self.func(*args, **kwargs)\n           ^^^^^^^^^^^^^^^^^^^^^^^^^^\n  File \"/usr/local/lib/python3.11/dist-packages/sklearn/pipeline.py\", line 1551, in _fit_transform_one\n    res = transformer.fit_transform(X, y, **params.get(\"fit_transform\", {}))\n          ^^^^^^^^^^^^^^^^^^^^^^^^^^^^^^^^^^^^^^^^^^^^^^^^^^^^^^^^^^^^^^^^^^\n  File \"/usr/local/lib/python3.11/dist-packages/sklearn/utils/_set_output.py\", line 319, in wrapped\n    data_to_wrap = f(self, X, *args, **kwargs)\n                   ^^^^^^^^^^^^^^^^^^^^^^^^^^^\n  File \"/usr/local/lib/python3.11/dist-packages/sklearn/base.py\", line 1389, in wrapper\n    return fit_method(estimator, *args, **kwargs)\n           ^^^^^^^^^^^^^^^^^^^^^^^^^^^^^^^^^^^^^^\n  File \"/usr/local/lib/python3.11/dist-packages/sklearn/compose/_column_transformer.py\", line 1001, in fit_transform\n    result = self._call_func_on_transformers(\n             ^^^^^^^^^^^^^^^^^^^^^^^^^^^^^^^^\n  File \"/usr/local/lib/python3.11/dist-packages/sklearn/compose/_column_transformer.py\", line 910, in _call_func_on_transformers\n    return Parallel(n_jobs=self.n_jobs)(jobs)\n           ^^^^^^^^^^^^^^^^^^^^^^^^^^^^^^^^^^\n  File \"/usr/local/lib/python3.11/dist-packages/sklearn/utils/parallel.py\", line 77, in __call__\n    return super().__call__(iterable_with_config)\n           ^^^^^^^^^^^^^^^^^^^^^^^^^^^^^^^^^^^^^^\n  File \"/usr/local/lib/python3.11/dist-packages/joblib/parallel.py\", line 1918, in __call__\n    return output if self.return_generator else list(output)\n                                                ^^^^^^^^^^^^\n  File \"/usr/local/lib/python3.11/dist-packages/joblib/parallel.py\", line 1847, in _get_sequential_output\n    res = func(*args, **kwargs)\n          ^^^^^^^^^^^^^^^^^^^^^\n  File \"/usr/local/lib/python3.11/dist-packages/sklearn/utils/parallel.py\", line 139, in __call__\n    return self.function(*args, **kwargs)\n           ^^^^^^^^^^^^^^^^^^^^^^^^^^^^^^\n  File \"/usr/local/lib/python3.11/dist-packages/sklearn/pipeline.py\", line 1551, in _fit_transform_one\n    res = transformer.fit_transform(X, y, **params.get(\"fit_transform\", {}))\n          ^^^^^^^^^^^^^^^^^^^^^^^^^^^^^^^^^^^^^^^^^^^^^^^^^^^^^^^^^^^^^^^^^^\n  File \"/usr/local/lib/python3.11/dist-packages/sklearn/utils/_set_output.py\", line 319, in wrapped\n    data_to_wrap = f(self, X, *args, **kwargs)\n                   ^^^^^^^^^^^^^^^^^^^^^^^^^^^\n  File \"/usr/local/lib/python3.11/dist-packages/sklearn/base.py\", line 921, in fit_transform\n    return self.fit(X, y, **fit_params).transform(X)\n           ^^^^^^^^^^^^^^^^^^^^^^^^^^^^\n  File \"/usr/local/lib/python3.11/dist-packages/sklearn/base.py\", line 1389, in wrapper\n    return fit_method(estimator, *args, **kwargs)\n           ^^^^^^^^^^^^^^^^^^^^^^^^^^^^^^^^^^^^^^\n  File \"/usr/local/lib/python3.11/dist-packages/sklearn/impute/_base.py\", line 434, in fit\n    X = self._validate_input(X, in_fit=True)\n        ^^^^^^^^^^^^^^^^^^^^^^^^^^^^^^^^^^^^\n  File \"/usr/local/lib/python3.11/dist-packages/sklearn/impute/_base.py\", line 361, in _validate_input\n    raise new_ve from None\nValueError: Cannot use median strategy with non-numeric data:\ncould not convert string to float: 'Travel_Rarely'\n"
          ]
        }
      ]
    }
  ]
}